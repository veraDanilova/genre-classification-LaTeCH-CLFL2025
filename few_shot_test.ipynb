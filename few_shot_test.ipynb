{
 "cells": [
  {
   "cell_type": "code",
   "execution_count": 1,
   "metadata": {},
   "outputs": [],
   "source": [
    "import logging\n",
    "import os\n",
    "from pathlib import Path\n",
    "import random\n",
    "\n",
    "from transformers import AutoTokenizer, AutoModelForSequenceClassification\n",
    "import pandas as pd\n",
    "import numpy as np\n",
    "\n",
    "import matplotlib.pyplot as plt\n",
    "import seaborn as sns\n",
    "\n",
    "import sklearn\n",
    "from sklearn.metrics import classification_report\n",
    "from sklearn.metrics import balanced_accuracy_score\n",
    "\n",
    "import torch\n",
    "from torch.utils.data import DataLoader,TensorDataset\n",
    "\n",
    "# import wandb\n"
   ]
  },
  {
   "cell_type": "code",
   "execution_count": 2,
   "metadata": {},
   "outputs": [
    {
     "name": "stdout",
     "output_type": "stream",
     "text": [
      "NVIDIA RTX A5000\n",
      "Memory Usage:\n",
      "Allocated: 0.0 GB\n",
      "Cached:    0.0 GB\n"
     ]
    }
   ],
   "source": [
    "\n",
    "\n",
    "#################\n",
    "# Login to wandb\n",
    "# wandb.login()\n",
    "\n",
    "os.environ[\"TOKENIZERS_PARALLELISM\"] = \"false\"\n",
    "os.environ[\"CUDA_VISIBLE_DEVICES\"]=\"0\"\n",
    "# os.environ[\"WANDB_PROJECT\"]=\"few-shot-mbert\"\n",
    "\n",
    "logging.basicConfig(format='%(asctime)s - %(levelname)s - %(name)s - %(message)s',\n",
    "                    datefmt='%m/%d/%Y %H:%M:%S',\n",
    "                    level=logging.INFO)\n",
    "logger = logging.getLogger(__name__)\n",
    "\n",
    "device = torch.device('cuda' if torch.cuda.is_available() else 'cpu')\n",
    "torch.cuda.empty_cache()\n",
    "torch.cuda.device(0)\n",
    "\n",
    "if device.type == 'cuda':\n",
    "    print(torch.cuda.get_device_name(0))\n",
    "    print('Memory Usage:')\n",
    "    print('Allocated:', round(torch.cuda.memory_allocated(0)/1024**3,1), 'GB')\n",
    "    print('Cached:   ', round(torch.cuda.memory_reserved(0)/1024**3,1), 'GB')\n",
    "\n",
    "def set_seed(seed):\n",
    "    torch.manual_seed(seed)\n",
    "    if torch.cuda.is_available():\n",
    "        torch.cuda.manual_seed(seed)\n",
    "        torch.cuda.manual_seed_all(seed)\n",
    "    np.random.seed(seed)\n",
    "    random.seed(seed)\n",
    "    torch.backends.cudnn.deterministic = True\n",
    "    torch.backends.cudnn.benchmark = False\n",
    "\n",
    "set_seed(1234)"
   ]
  },
  {
   "cell_type": "code",
   "execution_count": 3,
   "metadata": {},
   "outputs": [],
   "source": [
    "# Run predictions\n",
    "def gen_predictions(test_loader, model):\n",
    "    all_predictions = []\n",
    "    with torch.no_grad():  \n",
    "        for batch in test_loader:\n",
    "            input_ids, attention_mask = [tensor.to(device) for tensor in batch]\n",
    "            outputs = model(input_ids=input_ids, attention_mask=attention_mask)\n",
    "            predictions = torch.argmax(outputs.logits, dim=-1)\n",
    "            all_predictions.extend(predictions.cpu().numpy())\n",
    "    return all_predictions"
   ]
  },
  {
   "cell_type": "code",
   "execution_count": 4,
   "metadata": {},
   "outputs": [],
   "source": [
    "def plot_cfs(y_true, y_pred, class_label, dir):\n",
    "\n",
    "    dir_name  = 'plots_few_shot'\n",
    "    if not os.path.exists(dir_name):\n",
    "        os.makedirs(dir_name) \n",
    "    sns.set_palette(\"pastel\") \n",
    "    # get confusion matrix \n",
    "    cm = sklearn.metrics.confusion_matrix(y_true,\n",
    "                        y_pred)\n",
    "   \n",
    "    class_label = ['nf_prose' if label == 'non_fiction' or label == 'nonfiction' else label for label in class_label]\n",
    "    cm_df = pd.DataFrame(cm, index = class_label, columns = class_label)\n",
    "    \n",
    "    plt.figure(figsize = (7,5))\n",
    "    g = sns.heatmap(cm_df, cmap = 'Blues', annot=True, fmt='g', annot_kws={\"size\": 10})\n",
    "    g.xaxis.set_ticks_position(\"top\")\n",
    "    g.tick_params(axis='x', rotation=55)\n",
    "    g.set_xlabel(\"Predicted Genre\")\n",
    "    g.set_ylabel(\"True Genre\")\n",
    "    # plt.xticks(rotation=50, ha=\"right\")\n",
    "    # plt.yticks(rotation=0)\n",
    "    info = dir.split('__')[0]\n",
    "    plt.title(dir+\" training samples\")\n",
    "    plt.tight_layout()\n",
    "    plt.savefig(os.path.join(dir_name, dir), dpi=300)\n",
    "    plt.close()"
   ]
  },
  {
   "cell_type": "code",
   "execution_count": 9,
   "metadata": {},
   "outputs": [],
   "source": [
    "test_df_path = '/zpool/aurora-main/scratch/vera/actdisease-genre/few-shot-experiments/few_shot_data/few_shot.dev.csv'\n",
    "test_df=pd.read_csv(test_df_path, index_col=0)\n",
    "# test_df=test_df.query('language in [\"deu\"]')\n",
    "\n",
    "# data_dir = '/zpool/aurora-main/scratch/vera/actdisease-genre/few-shot-hmbert'\n",
    "# model_id='hmBERT'\n",
    "\n",
    "# data_dir = '/zpool/aurora-main/scratch/vera/actdisease-genre/few-shot-mbert'\n",
    "# model_id='mBERT'\n",
    "\n",
    "# data_dir = '/zpool/aurora-main/scratch/vera/actdisease-genre/few-shot-experiments/few-shot-xlmr'\n",
    "# model_id='XLM-RoBERTa'\n",
    "\n",
    "data_dir = '/zpool/aurora-main/scratch/vera/actdisease-genre/few-shot-experiments/few-shot-hmbert-mlm'\n",
    "model_id='hmBERT-MLM'\n",
    "\n",
    "# data_dir = '/zpool/aurora-main/scratch/vera/actdisease-genre/few-shot-mbert-mlm'\n",
    "# model_id='mBERT-MLM'\n",
    "\n",
    "# data_dir = '/zpool/aurora-main/scratch/vera/actdisease-genre/few-shot-experiments/few-shot-xlmr-mlm'\n",
    "# model_id='XLM-RoBERTa-MLM'\n"
   ]
  },
  {
   "cell_type": "code",
   "execution_count": 10,
   "metadata": {},
   "outputs": [
    {
     "name": "stdout",
     "output_type": "stream",
     "text": [
      "Balanced Accuracy: 0.76\n",
      "Balanced Accuracy: 0.75\n",
      "Balanced Accuracy: 0.64\n",
      "Balanced Accuracy: 0.70\n",
      "Balanced Accuracy: 0.68\n",
      "Balanced Accuracy: 0.52\n"
     ]
    },
    {
     "name": "stderr",
     "output_type": "stream",
     "text": [
      "/zpool/aurora-main/scratch/vera/.venv/lib/python3.12/site-packages/sklearn/metrics/_classification.py:1531: UndefinedMetricWarning: Precision is ill-defined and being set to 0.0 in labels with no predicted samples. Use `zero_division` parameter to control this behavior.\n",
      "  _warn_prf(average, modifier, f\"{metric.capitalize()} is\", len(result))\n",
      "/zpool/aurora-main/scratch/vera/.venv/lib/python3.12/site-packages/sklearn/metrics/_classification.py:1531: UndefinedMetricWarning: Precision is ill-defined and being set to 0.0 in labels with no predicted samples. Use `zero_division` parameter to control this behavior.\n",
      "  _warn_prf(average, modifier, f\"{metric.capitalize()} is\", len(result))\n",
      "/zpool/aurora-main/scratch/vera/.venv/lib/python3.12/site-packages/sklearn/metrics/_classification.py:1531: UndefinedMetricWarning: Precision is ill-defined and being set to 0.0 in labels with no predicted samples. Use `zero_division` parameter to control this behavior.\n",
      "  _warn_prf(average, modifier, f\"{metric.capitalize()} is\", len(result))\n",
      "/zpool/aurora-main/scratch/vera/.venv/lib/python3.12/site-packages/sklearn/metrics/_classification.py:1531: UndefinedMetricWarning: Precision is ill-defined and being set to 0.0 in labels with no predicted samples. Use `zero_division` parameter to control this behavior.\n",
      "  _warn_prf(average, modifier, f\"{metric.capitalize()} is\", len(result))\n",
      "/zpool/aurora-main/scratch/vera/.venv/lib/python3.12/site-packages/sklearn/metrics/_classification.py:1531: UndefinedMetricWarning: Precision is ill-defined and being set to 0.0 in labels with no predicted samples. Use `zero_division` parameter to control this behavior.\n",
      "  _warn_prf(average, modifier, f\"{metric.capitalize()} is\", len(result))\n",
      "/zpool/aurora-main/scratch/vera/.venv/lib/python3.12/site-packages/sklearn/metrics/_classification.py:1531: UndefinedMetricWarning: Precision is ill-defined and being set to 0.0 in labels with no predicted samples. Use `zero_division` parameter to control this behavior.\n",
      "  _warn_prf(average, modifier, f\"{metric.capitalize()} is\", len(result))\n"
     ]
    }
   ],
   "source": [
    "# dfs=[]\n",
    "results=[]\n",
    "for n, dir in enumerate(os.listdir(data_dir)):\n",
    "    if Path(os.path.join(data_dir,dir)).is_dir():\n",
    "        path_to_folder=os.path.join(data_dir,dir)\n",
    "        for file in os.listdir(path_to_folder):\n",
    "            if file.startswith('checkpoint'):\n",
    "\n",
    "                model_path=os.path.join(path_to_folder,file)\n",
    "                model = AutoModelForSequenceClassification.from_pretrained(model_path)\n",
    "                tokenizer = AutoTokenizer.from_pretrained(model_path)\n",
    "                model.to(device)\n",
    "                model.eval()\n",
    "                def tokenize(texts):\n",
    "                    return tokenizer(texts, padding=True, truncation=True, return_tensors=\"pt\", max_length=512)\n",
    "                inputs = tokenize(test_df['text'].tolist())\n",
    "                dataset = TensorDataset(inputs['input_ids'], inputs['attention_mask'])\n",
    "                test_loader = DataLoader(dataset, batch_size=8)\n",
    "                all_preds=gen_predictions(test_loader, model)\n",
    "                test_df['pred']=all_preds\n",
    "                test_df['label']=test_df.label.apply(lambda l: 'non_fiction' if l == \"nonfiction\" else l)\n",
    "                # test_df['pred']=test_df.pred.apply(lambda l: 'nonfiction' if l == \"non_fiction\" else l)\n",
    "                model_labels = list(model.config.label2id.keys())\n",
    "\n",
    "                y_true = test_df.label\n",
    "                y_pred = test_df.pred\n",
    "                y_true = [model.config.label2id[l] for l in y_true]\n",
    "                \n",
    "                ##################\n",
    "                class_label = list(model.config.id2label.values())\n",
    "                \n",
    "                plot_cfs(y_true, y_pred, class_label, dir)\n",
    "\n",
    "                balanced_acc = balanced_accuracy_score(y_true, y_pred)\n",
    "                print(f\"Balanced Accuracy: {balanced_acc:.2f}\")\n",
    "                \n",
    "                id2label = model.config.id2label\n",
    "                report = classification_report(y_true, y_pred, output_dict=True)\n",
    "                f_measure_per_class = {id2label[int(key)]: value['f1-score'] for key, value in report.items() if key.isdigit()}\n",
    "                # # f_per_class = list(map(itemgetter(1), sorted_by_genre))\n",
    "                average_metrics = {\n",
    "                'accuracy': report['accuracy'],\n",
    "                'macro_F1': report['macro avg']['f1-score'],\n",
    "                'weighted_F1': report['weighted avg']['f1-score']}\n",
    "                \n",
    "                test_df=test_df.query('label in @model_labels')\n",
    "\n",
    "                \n",
    "                settings = dir.split('__')[0]\n",
    "                report = classification_report(y_true, y_pred, output_dict=True)\n",
    "                f_measure_per_class = {id2label[int(key)]: value['f1-score'] for key, value in report.items() if key.isdigit()}\n",
    "                # f_per_class = list(map(itemgetter(1), sorted_by_genre))\n",
    "                \n",
    "                f_per_class=[\n",
    "                f_measure_per_class['QA'],\n",
    "                f_measure_per_class['academic'],\n",
    "                f_measure_per_class['administrative'],\n",
    "                f_measure_per_class['advertisement'],\n",
    "                f_measure_per_class['fiction'],\n",
    "                f_measure_per_class['guide'],\n",
    "                f_measure_per_class['non_fiction']]\n",
    "                results+=[([model_id, settings]+f_per_class+[average_metrics['accuracy'],average_metrics['macro_F1'],average_metrics['weighted_F1']])]"
   ]
  },
  {
   "cell_type": "code",
   "execution_count": null,
   "metadata": {},
   "outputs": [],
   "source": [
    "test_df['pred'] = test_df.pred.apply(lambda pred: id2label[pred])\n",
    "\n",
    "\n",
    "#example of misclassified instance of non_fiction\n",
    "\"\"\"\n",
    "'Researchers, it seems, are lucky people. \n",
    "They can work in the wonderful laboratory, \n",
    "are photographed surrounded by instruments \n",
    "and test animals, and the pictures end up in \n",
    "the illustrated magazines or in the newsreels.'\n",
    "\"\"\""
   ]
  },
  {
   "cell_type": "code",
   "execution_count": 122,
   "metadata": {},
   "outputs": [
    {
     "data": {
      "text/plain": [
       "['Ich bekomme so viele Briefe von jungen Menschen, die bitten: Vergeßt unser Anliegen, die Lehrlingsheime für junge Diabetiker nicht! ',\n",
       " 'Forschungsarbeit sieht ja auch nicht so aus, daß sich ein Arzt, Chemiker oder Biologe hinsetzt und sagt: „Ich will ein Mittel gegen den Krebs finden.\" Jeder Forscher steht heute auf den Schultern vieler Vorgänger. Er braucht oftmals Jahre, um nur die Erfahrungen früherer Gelehrter nachzuprüfen. Wer aber soll diese stille, unsichere Arbeit bezahlen? Sicher beschäftigen die Laboratorien der großen Arzneimittelwerke zahlreiche wissenschaftliche Hilfsarbeiter, um in Reihenversuchen den Gedankenblitz eines Gelehrten praktisch und auf seine Verwendbarkeit hin zu erproben. Wenn einem Industrielaboratorium einmal ein Erfolg beschieden ist, dann soll der auch die Kosten vieler erfolgloser Bemühungen wieder hereinbringen, man kann also kein wissenschaftliches Interesse daran haben, ein mit viel Werbeaufwand eingeführtes Mittel durch ein anderes zu verdrängen. Die selten gewordene zweckfreie Forschung aber ist ein kostspieliges Vergnügen. Das Mikroskop etwa, mit dem Robert Koch unter der Petroleumlampe arbeitete, würde heute kaum noch für den Sdiulbetrieb genügen. Immer komplizierter werden die Apparaturen und natürlich entsprechend teurer — solche Überlegungen muß ',\n",
       " 'Luft warf und zwar immer so, daß sie von den Möwen gefangen wurden. Die letzte Erinnerung an meinen Vater ist nicht besonders schön; denn da lernte ich ihn von einer anderen /Seite kennen. Da hat er mich nämlich über sein Knie gelegt und hat mir eine ordentliche Tracht Prügel verabreicht. Ich glaube zwar, daß ich sie verdient hatte, aber die werde ich nie vergessen! Da merkte ich wieder: „Papa kann eben alles!\" — Ja, das sind wirklich die einzigen Erinnerungen an meinen Vater, denn er ist seit Juni 1944 vermißt, in Rußland im Mittelabschnitt.',\n",
       " '1953 zeigten sidi Sehstörungen. Er bekam eine Brille. Komteßchen lachte. „Na, jetzt krieg ich einen Gelehrten.“ „Gefalle ich dir nicht mit dem Augenglas?\" fragte der verliebte junge Mann ängstlich. „Nein“, sagte die Sylvia aufrichtig. „Das ist auch schon wieder so was Bresthaftes\".',\n",
       " 'Heute wollen wir von einem Kurheim sprechen und nicht von einem Menschenschicksal oder zweien. Aber die Oma aus dem Bergischen Land, die wir auf den Bildern sehen, war der tausendste Besucher des großen Hauses im Walde, und das, obwohl das Haus gerade erst ein Jahr offen steht für Diabetiker. ',\n",
       " 'Forscher, so scheint es, sind glückliche Leute. Sie können im herrlichen Laboratorium arbeiten, werden inmitten von Instrumenten und Versuchstieren fotografiert und die Bilder kommen in die Jllustrierten oder in die Wochenschau. ',\n",
       " 'Ihr jungen Menschen kommt, und versucht über Eure Wünsche zu sprechen. Trefft Euch in einem Saal und sprecht Euch aus. Es ist die Gelegenheit, die Euch nicht entgehen sollte. ',\n",
       " \"Es ist ein Triumph für das Haus, ein Triumph für den Mann, der noch nie in diesem Hause war, der jenseits des Eisernen Vorhanges lebt, und der die Methode erprobt hat, die so vielen Hunderten, Tausenden von Berufstätigen geholfen hat, weiter berufstätig zu sein; tüchtig zu sein und sich in nichts zu unterscheiden von den andern, die ja auch ihre Wehwechen haben. Der eine, an der Galle', der zweite mit dem ,Herzen’, der dritte ,im Hals', nun, wir wissen ja alle voneinander, wie wir das nennen, was uns so oft im Leben daran erinnert, daß wir aus armem Fleisch und Blut und nicht aus Hauch allein \",\n",
       " 'Wir sind nur eine kleine Zeitung inmitten großer Gazetten, aber der Einlauf von Beiträgen ist sehr sehr stark. Obwohl wir die redaktionelle Arbeit nur nebenamtlich, neben vieler anderer Arbeit machen, lesen wir alles durch, überprüfen jede Arbeit und beantworten alle Briefe. ',\n",
       " 'Er berichtete dem Arzt — der untersuchte ihn gründlich. Aber vom Insulin hielt er weiter nichts. „Wiegen Sie denn auch alles ab, ehe Sie es essen oder kochen ... ?\" ',\n",
       " 'In meiner beruflichen Tätigkeit muß ich viele Interviews machen, komme hierhin und dahin. Wenn Sie mich fragen, was mich im letzten Jahr am meisten beeindruckt hat, dann war es ein Sekretärinnenkurs. ',\n",
       " 'Bouchardat erkannte, daß die geistigen Kräfte noch lange danach völlig intakt waren, nachdem die Muskel- und Nervenkräfte im Verlauf des Diabetes geschwunden waren, aber er gewahrte auch, daß das Erinnerungsvermögen seiner Patienten gelitten hatte. In seinen Studien finden sich Beobachtungen ',\n",
       " \"Wenn heute irgendwo der Name der Stadt Düsseldorf genannt wird, so verbinden sich damit vielerlei Begriffe — jedenfalls denkt man immer an eine elegante, lebensfrohe und lebenstüchtige Stadt. Die zahlreichen Beinamen, die diese Landeshauptstadt des größten Industrielandes der Bundesrepublik Deutschland erhalten hat, legen alle irgendwie Zeugis ab für ihre Bedeutung. Man spricht von Düsseldorf als dem „Magnet des Westens“ oder auch der „Metropole am Rhein“, Napoleon soll die Bezeichnung „KleinParis' geprägt haben, „Schreibtisch des Ruhrgebiets“ und „Tochter Eu\",\n",
       " '.  Diese Rechnungen entbehren der geistigen Weite. Noch nirgendwann hat eine Zeit deutlicher dargetan, daß der Gleichklang zwischen Verstand und Gemüt unentbehrlich ist. Was nützte uns alles Bemühen, durch die Zahl viel zu gewinnen, wenn wir durch die Verkümmerung unserer Innerlichkeit alles verlören? — Dieser Tanz um das Goldene Kalb würde über kurz oder lang zu einer Götterdämmerung der Wirtschaftsgötzen führen. Immer karger wird die Nahrung, die das Gemüt braucht. Immer dürftiger fließen die Quellen wahren, freudigen, inneren Erlebens. Die Schein- und Ersatzfreuden verkehren sich alsbald in ihr Gegenteil. Und am Ende bleibt die vielbesagte, unsere Zeit zunehmend beherrschende Daseinsangst, die keine Zuflucht, sondern nur Flucht kennt.  So besehen, stellt sich die Bedeutung des Waldes viel umfassender dar. Er zählt zu den Kraftquellen des inneren Menschen, ohne die er als Mensch nicht mehr zu leben vermöchte. Vielen — vor allem dem Weidmann — gibt er das O1 zur Erhaltung der nun zu oft im Zuglicht flackernden Flamme der Daseinsfreude, die sich anderen mitteilt: er gibt ihnen Wärme und Ruhe zur Selbstbesinnung. Diese Wirkung kann der Wald aber nur in seinem naturhaften Gehalt, nicht in der Verstümmelung und Verzerrung reiner Wirtschaftseinrichtungen auslösen. Die Jagd ist auch keineswegs, wie ihr oft vorgeworfen wird, eine unabgrenzbare Mischung zwischen Sentimentalität und Brutalität. Bejahen wir die Einheit von Wald und Wild, so gehört zu ihnen das gerechte Weidwerk wie zum Garten die Gärtnerei',\n",
       " 'Woher kommt es, daß hier jeder das Gefühl hat, die Ärzte seien nur für ihn da, er werde ganz individuell behandelt? Denn ein Blick in die Speisesäle genügt, um zu sehen, daß gut einhundert Menschen beisammen sind; ein Blick auf die Liegewiese zeigt ein belebtes Bild, das Schwimmbecken ist recht gut besucht . . . ',\n",
       " 'Die Sprache, die alte Amme unserer Weisheit, bewahrt die Erinnerung an eine uralte Medizin, die die Wissenschaft vergessen hat. Doch ist die Wissenschaft immer sehr stolz, wenn sie eine der Weisheiten dieser uralten Medizin wiederentdeckt. Das Blut war lange Zeit für die Wissenschaft nicht viel mehr als ein Transportmittel für Stoffwechselprodukte. Unendlicher Fleiß der Forschung hat im Laufe der letzten Jahrzehnte zu der Erkenntnis geführt, daß das „Blut ein ganz besonderer Saft“ ist. — ',\n",
       " 'Vor Jahr und Tag haben wir über die Arbeit des Fortbildungsinstitutes der Deutschen Gesellschaft für Ernährung an der Medizinischen Akademie in Düsseldorf berichtet. ',\n",
       " 'Es war ein hübscher Abend. Es gab keine Mauerblümchen und keine „Alten\", die da resignierend umhersaßen. Es tanzte wirklich alles, was Lust daran fand. ',\n",
       " 'Claudius setzte die Brille nur noch im Hörsaal und im Kämmerlein auf. ',\n",
       " '„Das erlaubte ich ihm nicht —“ lächelt Frau Rosel. Sie hielt fortab strengste Diät ein. ',\n",
       " '. Trotz durchdachtester Überlegungen und trotz ausgeklügelter Tricks muß er aber spätestens nach zwei Tagen einsehen, daß der Koffer gar nicht daran denkt, alles das aufzunehmen, was man ihm zugemutet hat. Schweren Herzens entschließt man sich also, die Hälfte zu Hause zu lassen und nur das Allernötigste mitzunehmen. Es wäre allerdings sehr optimistisch, zu glauben, daß damit der Fall erledigt sei. Ein standesbewußter Koffer kapituliert nicht so schnell, und deshalb bleibt auch beim zwei ten Versuch noch eine beachtliche Anzahl völlig unentbehrlicher Dinge übrig. Wer schon über einige Erfahrung im Umgang mit Koffern verfügt, der weiß, daß man diesen Überschuß am besten in einen alten Seifenkasten verschnürt und als Postpaket vorausschickt. Ansonsten bleibt nur die Möglichkeit, nach mehrmaligen vergeblichen Umgruppierungsversuchen eine weitere und noch radikalere Auswahl zu treffen. Erst wenn man auch noch auf das dritte Paar Schuhe, auf das dicke Buch, das man im Urlaub endlich mal lesen wollte, und auf einige sonstige Annehmlichkeiten verzichtet, erst dann wird sich der Kofferdeckel bereitfinden, unter erheblichem Druck und mit einem hämischen Klacken ins Schloß zu schnappen. Daß Koffer während des Transportes mit ihrer scharfen Kante unentwegt gegen das Schienbein schlagen und daß der Koffergriff auf ungeübten Handflächen bildschöne Wasserblasen hinterläßt, das gehört fast schon zu den Selbstverständlichkeiten. Man kann dabei noch von Glück sagen, wenn ein schlechtgelaunter Koffer nicht mitten auf dem Bahnsteig sein breites Maul öffnet, um den halbverdauten und schlechtverstauten Inhalt angewidert in die Gegend zu speien',\n",
       " 'lernte die, wir möchten sagen, diabetische Mathematik. Immer mehr wurde dem Mann bewußt, daß hier eine große Schicht Menschen mit der ärztlichen Hilfe allein nicht auskommt. Diese Frauen und Männer hatten noch mehr Lasten zu tragen: Die Kost, der Beruf, die Steuer, das alles waren Probleme, die gelöst werden mußten. Es waren Menschen, die vielfach allein waren, ohne Fürsprecher, Berater, ohne den Zusammenschluß von Personen, die das gleiche Schicksal trugen. ',\n",
       " 'Frau Hilde ist nicht in ihr Modegeschäft zur Arbeit zurückgekehrt. Das ersehnte Häuschen ersteht aber schon. Die Kameraden vom Kegelklub, die Ferdinand B. damals, als er dachte, es ginge mit ihm zu Ende, verlassen hatte, helfen ihm am Wochenende. Nach getaner Arbeit gibt es stets ein Fläschlein Bier — für Herrn Ferdinand allerdings ein Diabetiker-Bier. ',\n",
       " 'Viele Diabetiker sind Rentenempfänger und wenn ihr Leben schon in normalen Zeiten mühsam genug ist, in diesem Frühjahr konnten sie fast verzweifeln. Kartoffeln, Grobgemüse, Zwiebeln waren so teuer geworden wie sonst nur Feingemüse und man konnte sich nicht einmal damit trösten, daß die höheren Preise den Erzeugern zugute kamen. ',\n",
       " 'Wie manchesmal lasen wir in Märchen: Es kam eine große Teuerung über das Land. Das liest man und vergißt es wieder. Aber wir haben eine Vorstellung davon bekommen was es wirklich bedeutet... ',\n",
       " 'Zunächst wies er seine Patienten an, ihre Zucklerproben mit gelöschtem Kalk vorzunehmen, aber später entwickelte er ein Kupferreagens, das dem des berühmten Test Hermann von Fehlings glich — nur, daß der Franzose .es eher entdeckte. Bouchardat war in der Lage, mengenmäßige Proben des während einer bestimmten Zeitspanne ausgeschiedenen Harnzuckers zu untersuchen, wobei er die Entdeckung des Polarimeters ausnützte, um Einnahme und Ausscheidung der Kohlenhydrate zu bestimmen. ',\n",
       " \"daß ich nicht zur Schule ging in diesen letzten Jahren. Ich such' doch Freunde!“ \",\n",
       " '. Er hatte dafür auch handfeste Beweise. Unter der außerordentlich großen Zahl seiner Patienten waren viele Ärzte, und er fand, daß bei diesen Ärzten viel weniger Komplikationen der Zuckerkrankheit auftraten, als bei seinen anderen Patienten. Daraus schloß er richtig, daß nur Diabetiker, die bestimmte Kenntnisse über ihre Zuckerkrankheit haben, von vielen Komplikationen verschont bleiben.',\n",
       " 'Es war ein nüchterner, ein sachlicher Bericht — und wir haben ihn so gebracht, wie es von den Initiatoren dieser Arbeitsstätte gewünscht wurde. ',\n",
       " 'Claudius aber, 27 Jahre alt, brillianter Student und von einer jungen schönen Frau geliebt — schluckte alle Schlaftabletten, die man ihm in den letzten furchtbaren Monaten gereicht hatte, an einem linden Juliabend. Er wollte so nicht weiterleben.',\n",
       " 'Bis 1952 — nach ihrem zehnten Geburtstag — war Marijo ein Kind wie alle andern. Da mußte ihr der Blinddarm entfernt werden. So etwas ist heutzutage eine Sache, die in ein paar Tagen erledigt ist. Bei Marijo aber kam es anders. Sie bekam auffallend starke Hunger- und Durstgefühle. Es entstand der Verdacht auf Kinderlähmung. Fünf Tage lang kam sie in strenge Quarantäne. Dann unterzog man sie einer häßlichen Bandwurmkur. Nichts half. Es blieb der quälende Durst. Der Hunger wurde nicht geringer.',\n",
       " 'Man hat uns in den Wochen des strengen Frostes wissen lassen, daß der Februar dieses Jahres der kälteste seit zweihundert Jahren gewesen sei, wir konnten uns dieser Ungewöhnlichkeit auch dann nicht freuen, wenn unsere Stuben warm waren. Wir lasen von Wolfsplagen in Polen, von Frosttoten in Südfrankreich und der Not der Italiener, denen die Treibhausgärtner Noddeutschlands blühende Tulpen nach Nizza senden mußten, um den Reisegästen Frühling vorzutäuschen. Aber schwerer wog, daß Tausende Südländer ohne Mäntel, ohne Decken, ohne Ofen in ihren Wohnungen waren. Eine Welle von Mitleid ging durch die Welt und wir erfuhren wieder einmal wie nahe sich eigentlich alles steht, was menschliches Antlitz trägt. Dennoch scheint es, als sei der hungernden Kreatur mehr gedacht worden als der Menschen. ',\n",
       " 'Der Tenor lautete — kurz gefaßt: Sie müssen verstehn, bei meiner Stellung — ich kann nichts veröffentlicht haben. Oder: Ich möchte nicht, daß irgendeiner weiß, daß ich Diabetes habe. • . ',\n",
       " '„W as ?“ staunte ich. „Sie — aber — Sie arbeiten doch tagtäglich von früh bis 6 Uhr abends . . .!“',\n",
       " 'Bouchardat pflegte immer wieder zu betonen, daß keine Störung im Körper so sehr zu Rückfällen neige wie der Diabetes. Er zitierte oft das Beispiel eines ',\n",
       " '. Die Verwertung der  eine tief besorgte Gefährtin. Sie kündigte sofort ihre Stellung und beschloß, sich hinfort nur noch ihrem „schwerkranken Mann“ zu widmen . . .  Die Beratungsstellen sind da, um die überforderten Ärzte dahingehend zu entlasten, daß ihnen die „seelische\" Betreuung der Patienten abgenommen wird, indem sie Aufklärung geben, Diätanleitungen, Verhaltungsmaßregeln.  In den Beratungsstellen finden besorgte Ehefrauen, verzweifelnde Eltern und vor allem auch die Diabetiker selbst Rat, wofür in den Sprechstunden der behandelnden Ärzte zumeist keine Zeit ist.  In den Beratungsstellen werden Kontrollen durchgeführt, deren Ergebnisse für den behandelnden Arzt eine große Hilfe darstellen. — Das alles geschieht kostenlos!  Direktor M. und Ferdinand B., der Arbeiter, und viele viele Tausende mit ihnen, haben jetzt glücklicherweise ihren Weg in die Beratungsstellen gefunden. Sie alle haben eine neue gute Einstellung zu ihrem Diabetes bekommen. Sie haben gelernt, selber zu „spritzen\". Sie beobachten sich, — jedoch nicht mehr als notwendig. Frau M. spielt wieder Tennis, Sie hat es fertiggebracht, ihren Mann zweimal in der Woche zum Partner ihres Netzballspiels zu haben. Herr M. hat es auch gelernt, Ferien zu machen, und dennoch seinen Betrieb gut und erfolgreich weiterzuführen.  Frau Hilde ist nicht in ihr Modegeschäft zur Arbeit zurückgekehrt. Das ersehnte Häuschen ersteht aber schon. Die Kameraden vom Kegelklub, die Ferdinand B. damals, als er dachte, es ginge mit ihm zu Ende, verlassen hatte, helfen ihm am Wochenende',\n",
       " 'So ist es in den USA — hier haben sie ihre Fotos veröffentlicht, die vollen Namen darunter und sie lächeln von den Titelseiten, als machten sie Reklame für eine Zahnpastafirma. ',\n",
       " 'Wenn heute unsere Kinder und der Vertreter einer Jugendgruppe von Diabetikern, ihre Stimmen erheben, so ist das symbolisch gemeint. Weihnachten soll in die Zukunft weisen. In den Frühling, der unabwendbar kommen wird mit der Sonne, die sich gewendet hat, mit den Tagen, die wieder länger werden, mit der Geburt des Heilandes, der das größte und leuchtendste Beispiel der liebenden Friedensverheißung war. ',\n",
       " 'Bis zum Ausbruch des zweiten Weltkrieges bemühten sich Schriftleiter und Verleger noch sehr um jedes Manuskript. Natürlich fielen die Frühlingsergüsse schreibender Pennäler und dichtender Jungfrauen unter den Tisch — aber ansonsten gab man sich bestimmt Mühe, dem Nachwuchs zu helfen, sich eben einen Nach-Wuchs zu ziehen. ',\n",
       " 'Claudius der Untermieter hat einen Arzt aufgesucht. Diabetes mellitus! Claudius lief an die Isar, beugte sich über das Geländer — aber der Lebenswille siegte. Er wußte, was ihn dabei zutiefst verzweifelt machte: Seine große Liebe, die kapriziöse Sylvia, haßte doch alle kranken Leute so sehr. Es fiel ihm nicht ein, daß eine Frau, auch wenn sie noch eine kurzberockte Schülerin ist, durch Mitleid zu erringen ist. Dem Studenten standen nur ihre hingeworfenen Worte zur Verfügung und er gelobte sich in dieser Stunde, niemandem etwas von seinem Leiden zu sagen. Er fand den Arzt den er brauchte. Einen, der gegen das Insulinspritzen war. Claudius, der — inzwischen war die Währungsreform gekommen und die Gräfin mit der Tochter waren in die ',\n",
       " 'Das Wort „begeistert\" schwang in jedem Satz mit — und da die, die es aussprachen, diese Zeilen vermutlich lesen werden, so müssen wir es bringen, sonst sagen sie mit ',\n",
       " 'Vor mehr als hundert Jahren, als der Diabetes noch allgemein als tödlich angesehen wurde, wurde ein französischer Pharmazeut namens Apollinaire Bouchardat zum leuchtenden und begeisternden Symbol der Hoffnung für die Diabetiker in aller Welt. ',\n",
       " 'Da gibt es viele Anekdoten von Schriftstellern, Autoren von Bestsellern, deren Romane in Auflagen von Hunderttausenden gedruckt wurden. In den Anekdoten heißt es dann oft, 13 oder 33 Verlage hätten das Manuskript zurückgeschickt. Einem gefiel es dann — und machte den Verlag wohlhabend, den Dichter berühmt!',\n",
       " 'Bouchardat erfand alle möglichen Maßnahmen, um die damaligen widerwärtigen, zum Erbrechen öden, fleischlosen Speisen genießbar zu machen, aber nie verlor er das Ziel der Behandlung aus dem Auge — den Harn zuckerfrei zu halten. Er setzte den Kohlenhydratgehalt in der Diät herab, indem er Brot und Milch ausschaltete. ',\n",
       " 'Sie hätten nämlich einen Saal erlebt, der voll von Menschen war, und Sie hätten die Gesichter beobachten können, die da aufmerksam den Vorträgen von Ärzten lauschten. ',\n",
       " 'Ein Mitglied des DDB stellt uns die folgende Begebenheit zur Diskussion, Sie macht uns nachdenklich und führt die vorangegangenen Zeilen eigentlich wie eine Fahne vor sich her. Denn sie sagt: Nicht alle sind auf der Hut, nicht alle haben Acht auf sich. Der Kongreß im Juli wird für alle Mitglieder und alle diabetischen Menschen die Möglichkeit bieten, große Männer und Frauen, Ärzte, Soziologen, Psychologen, Ernährungswissenschaftler etc. zu hören. ',\n",
       " 'Es gibt Forscher, deren Leben tatsächlich wie ein Märchen anmutet, aber das sind doch seltene Ausnahmen. ',\n",
       " 'Unsere großen Schwestern aber sind nach diesem Kriege zu einer Redaktionspolitik geschritten, die wir im Gedanken an Nachwuchs und Zukunft für gefährlich halten. ',\n",
       " 'Die Lehre etwa, daß die so lange angekündigte Sozialversicherungsreform endlich kommen muß, damit die Arbeitsunfähigen unter uns vor keinem ',\n",
       " 'ist heraufgezogen. Mögen die für diese Jahreszeit unpassenden Gewitterwolken sich bald verziehen.  Mögen sie auch zu passenderer Zeit nur reinigend und nie verheerend wirken, wenn sie schon auftauchen müssen.  Das, liebe Freunde, liebe Leser, liebe Mitarbeiter, als Geleitwort für A959 — und es gilt für die Politik, den Beruf, gilt für unser Heim — und für uns selbst nicht am wenigsten.',\n",
       " 'Zu welchen Berufsarten gehören die Diabetiker, die hierher kommen? Es sind vorwiegend Arbeiter ',\n",
       " 'Diesen Autor haben auch wir unter den Mitarbeitern des „Eiland\", schon, weil uns seine Einstellung gefällt, ',\n",
       " 'Die Aufforderung, über das Treffen zu berichten, brachte einen komischen Erfolg. Es lief eine rechte Anzahl von Briefen ein. Sie waren zum Teil — anonym. ',\n",
       " 'Dann und wann sind auch schon recht „berühmte\" Leute darunter. Aber wir lassen sie mit Absicht unter einem angenommenen Namen schreiben. Dann lesen Sie wieder Arbeiten von ganz jungen Autoren, denen wir die Chance geben, an die Öffentlichkeit zu kommen, weil ihnen das sonst kaum wo glückt, warum nicht, sollen Sie auch gleich hören. ',\n",
       " 'Es ist noch eine halbe Stunde Zeit, bis in unserer Beratungsstelle der Vortrag des Arztes beginnt. Wir sitzen in froher Runde, und einige der Teilnehmer tauschen ihre Erfahrungen aus. Als ersten hören wir einen pensionierten Lehrer von einundsiebzig: Ein gemütlicher beweglicher Herr, der sich gut und gerne zehn Jahre jünger nennen könnte. Seit sechs Jahren ist er Diabetiker. Er hatte bislang nur über seinen hohen Blutzucker zu klagen. Er nimmt seit einigen Wochen Nadisan, wie er erzählt, am ersten Tage fünf Tabletten zum Frühstück, am zweiten vier, und die darauffolgenden Tage je zwei. Nach der ersten Kontrolle schüttelte man ihm die Hand: „Herzlichen Glückwunsch\", sagte der Arzt. Seitdem muß er täglich nur eine halbe bis eine Tablette täglich ',\n",
       " 'Immer und immer wieder betonte dieser Wissenschaftler, der ein Professor der Hygiene an der Pariser Universität war, seinen diabetischen Patienten gegenüber, daß sie ebenso lang wie die meisten Leute leben könnten, vorausgesetzt, daß sie sich einem strikten hygienischen Reglement anpassen würden, um die Benachteiligung auf Grund ihres Zustands auszugleichen. ',\n",
       " 'Eine erstaunliche Reaktion trat ein. Briefe von Redaktionen schlesischer, sächsischer, pommerscher und aller möglichen anderer Gebietszeitungen trafen in Nürnberg ein: Diabetische Leser dieser Journale hatten sich an ihre Schriftleitung gewandt. Sie wollten mehr Rezepte haben, ja, immer mehr forderten den Herausgeber von „Unser tägliches Kochbuch“, Beining, auf, für sie, die Diabetiker, eine eigene längere Zusammenstellung von Gerichten zu veröffentlichen. ',\n",
       " 'Claudius fühlte sich aber nicht gut. Eines Tages fiel er ins Koma. Durch ein Wunder ging auch dies vorbei, ohne daß es einer merkte. Er hatte sich in Bibliotheken gesetzt und alles Einschlägige studiert — er wagte es natürlich nicht, Bücher ins Haus zu bringen. Sylvia war neugierig wie ein Hase und das Mädchen, das aufräumte, hätte ja auch etwas plaudern können. ',\n",
       " 'Aber, wie gesagt, der Vortrag ist nur ein Teil des Gesamtwerkes. In dieser Beratungsstelle, die von jung und alt, von Frauen und Männern und Jugendlichen frequentiert wird, wird ganz schematisch gearbeitet. Alles geschieht kostenlos. Die Arzte der Stadt sind überaus dankbar für die große Mithilfe und Kontrolle, die durch die Beratung ausgeübt wird. Das Gros der Patienten wird von seinen Ärzten geschickt. ',\n",
       " '. Der Brustkorb wird beweglicher, breiter, gewölbt, die Atmungsmuskulaturst gekräftigt, besonders die der Ausatmung, die bei Leuten mit schlechter Haltung, bei fast allen Sitzberuflern mangelhaft ausgebildet ist. Der erhöhte Druck auf das Zwerchfell bedingt eine kräftige Massage der Bauchorgane, die besser durchblutet und ernährt werden. Schwimmen erfordert zügige, aber kräftige Bewegungen, eckige Bewe Die sdiöne Mailuft lockt zu neuen Taten, und die Vorfreude auf den Sommer beschwingt uns. Wir wollen also unseren Sport wieder aufnehmen oder vielleicht überhaupt endlich einmal mit ihm beginnen!  Vielleicht erinnern wir uns auch so oft gehörter Argumente: daß die moderne Technik dem Menschen körperlich zuviel Arbeit abnimmt, daß sie ihn nicht mehr auslastet, daß sie ihn bewegungsträge macht — all das bestärkt unsere gute Absicht. Und wir erleben jetzt im Aufwärts des Jahres mehr als sonst, wie sehr körperliche Bewegung und Tätigkeit Antrieb und Schwungrad des Lebens sind.  Vielleicht auch kommen uns unsere eigenen Jugenderfahrungen und — Erlebnisse in und mit dem Sport in den Sinn: Sport und Spiel als eine tüchtige, oft sogar erschöpfende körperliche Arbeit, aber stets im Klima herrlicher Erlebnisse und belohnt durch eine gesunde und natürliche Ermüdung, aus der immer wieder neue Leistungskraft erstand.  So sind wir also in diesen schönen Maientagen voller Tatendrang, möchten am liebsten gleich alles im Winter Versäumte auf einmal nachholen und sofort an unsere im vori gen Sommer erreichten Leistungen anknüpfen',\n",
       " '1954 — kurz vor der Promotion — erblindete er. Da kam alles heraus. Sylvia, Komtesse von „S\" zeigte jetzt, daß sie nicht das oberflächliche Geschöpf war, für das sie gehalten wurde — auch von ihrem Liebsten. Obwohl die Mutter energisch abriet und der Industrielle seine Hand\\' fortziehen wollte, blieb sie bei ihm.',\n",
       " 'Dennoch, das Gefühl des Einzelnen ist richtig. Die Medizinmänner sind mit Leib und Seele an ihrer Arbeit. Der Chefarzt verwirklicht die Methode seines ',\n",
       " 'Haben sie ein respektierliches Alter erreicht, wird ihnen der Nobelpreis verliehen; nach ihrem Tode schreibt man Gedenkartikel über sie und benennt Straßen nach ihnen. ',\n",
       " 'Unzählige Beispiele lehren, daß die richtige innere Einstellung zu einem glücklichen Wandel der Lebensumstände eines Diabetikers führen kann. Dazu verhilft einem jeden die Diabetiker-Beratungsstelle. Wir alle hoffen, daß sich zu den vielen bestehenden noch weitere hinzugesellen mögen. ',\n",
       " 'Sie ist nahezu besessen von ihrer Aufgabe zu helfen, kranken Menschen Erleichterung zu bringen. ',\n",
       " 'Die Beratungsstelle, die von Woche zu Woche mehr hilfesuchende Menschen in ihre Obhut nimmt, hat sich sofort die klinischen Erfahrungen des BZ 55 zunutze gemacht. Ihr medizinischer Leiter hat in vielen Vorträgen über das neue Mittel gesprochen; er wendet es bei keinem Patienten unter 45 Jahren',\n",
       " 'Frau Rosel, Jahrgang 99 — sie macht keinen Hehl aus ihrem Lebensherbst — ist Mutter und Großmutter. Der Mann starb, und er hatte es ihr auch im Leben nicht ganz leicht gemacht. Sie mußte nun zwei Kinder aufziehen, die heute verheiratet sind. Schöne,',\n",
       " 'Aber meine Mutter ist mir geblieben. Dafür bin ich Gott von Tag zu Tag dankbarer. Meine Mutter hat Säuglingsschwester gelernt. Als sie heiratete, sagte ihre Mutter zu ihr: „Oh, Mädchen, jetzt hat man dich so lange lernen lassen und jetzt heiratest du. Da war doch deine Lehre praktisch umsonst!“ Es ahnte damals natürlich niemand, daß ihr in etwa 10 Jahren das Examen von Nutzen sein könnte!',\n",
       " 'Als Betroffener, als Gefährte Betroffener, als Krankenschwester, als Arzt, als Jugendpfleger. ',\n",
       " 'Wir vom „EILAND\" haben uns in erster Linie an die Menschen gewandt, die im Kurs — in einem der beiden bislang abgehaltenen Hausfrauenkurse — Hörer und Mitarbeiter waren. ',\n",
       " 'Sie sind vielleicht artig zu Ihrem Magen und essen nicht mehr, als Sie vertragen können. Aber sind Sie auch lieb mit dem Protoplasma Ihrer Zellen? Ich bezweifle es. ']"
      ]
     },
     "execution_count": 122,
     "metadata": {},
     "output_type": "execute_result"
    }
   ],
   "source": [
    "test_df.query('label == \"non_fiction\" and pred == \"fiction\"').text.tolist()"
   ]
  },
  {
   "cell_type": "code",
   "execution_count": 11,
   "metadata": {},
   "outputs": [],
   "source": [
    "def create_df(results):\n",
    "    return pd.DataFrame(results,columns=['model',\n",
    "                                         'size',\n",
    "                                        'QA',\n",
    "                                        'academic',\n",
    "                                        'administrative',\n",
    "                                        'advertisement',\n",
    "                                        'fiction',\n",
    "                                        'guide',\n",
    "                                        'nonfiction',\n",
    "                                        'accuracy',\n",
    "                                        'macro_F1',\n",
    "                                        'weighted_F1'])\n"
   ]
  },
  {
   "cell_type": "markdown",
   "metadata": {},
   "source": [
    "## German vs Swedish"
   ]
  },
  {
   "cell_type": "code",
   "execution_count": 23,
   "metadata": {},
   "outputs": [
    {
     "data": {
      "text/html": [
       "<div>\n",
       "<style scoped>\n",
       "    .dataframe tbody tr th:only-of-type {\n",
       "        vertical-align: middle;\n",
       "    }\n",
       "\n",
       "    .dataframe tbody tr th {\n",
       "        vertical-align: top;\n",
       "    }\n",
       "\n",
       "    .dataframe thead th {\n",
       "        text-align: right;\n",
       "    }\n",
       "</style>\n",
       "<table border=\"1\" class=\"dataframe\">\n",
       "  <thead>\n",
       "    <tr style=\"text-align: right;\">\n",
       "      <th></th>\n",
       "      <th>model</th>\n",
       "      <th>size</th>\n",
       "      <th>QA</th>\n",
       "      <th>academic</th>\n",
       "      <th>administrative</th>\n",
       "      <th>advertisement</th>\n",
       "      <th>fiction</th>\n",
       "      <th>guide</th>\n",
       "      <th>nonfiction</th>\n",
       "      <th>accuracy</th>\n",
       "      <th>macro_F1</th>\n",
       "      <th>weighted_F1</th>\n",
       "    </tr>\n",
       "  </thead>\n",
       "  <tbody>\n",
       "    <tr>\n",
       "      <th>2</th>\n",
       "      <td>xlmr-mlm</td>\n",
       "      <td>all</td>\n",
       "      <td>0.909091</td>\n",
       "      <td>0.795699</td>\n",
       "      <td>0.647059</td>\n",
       "      <td>0.864865</td>\n",
       "      <td>0.347826</td>\n",
       "      <td>0.818182</td>\n",
       "      <td>0.752475</td>\n",
       "      <td>0.74</td>\n",
       "      <td>0.7336</td>\n",
       "      <td>0.715292</td>\n",
       "    </tr>\n",
       "  </tbody>\n",
       "</table>\n",
       "</div>"
      ],
      "text/plain": [
       "      model size        QA  academic  administrative  advertisement   fiction  \\\n",
       "2  xlmr-mlm  all  0.909091  0.795699        0.647059       0.864865  0.347826   \n",
       "\n",
       "      guide  nonfiction  accuracy  macro_F1  weighted_F1  \n",
       "2  0.818182    0.752475      0.74    0.7336     0.715292  "
      ]
     },
     "execution_count": 23,
     "metadata": {},
     "output_type": "execute_result"
    }
   ],
   "source": [
    "df.query('size == \"all\"') #deu xlmr"
   ]
  },
  {
   "cell_type": "code",
   "execution_count": 14,
   "metadata": {},
   "outputs": [
    {
     "data": {
      "text/html": [
       "<div>\n",
       "<style scoped>\n",
       "    .dataframe tbody tr th:only-of-type {\n",
       "        vertical-align: middle;\n",
       "    }\n",
       "\n",
       "    .dataframe tbody tr th {\n",
       "        vertical-align: top;\n",
       "    }\n",
       "\n",
       "    .dataframe thead th {\n",
       "        text-align: right;\n",
       "    }\n",
       "</style>\n",
       "<table border=\"1\" class=\"dataframe\">\n",
       "  <thead>\n",
       "    <tr style=\"text-align: right;\">\n",
       "      <th></th>\n",
       "      <th>model</th>\n",
       "      <th>size</th>\n",
       "      <th>QA</th>\n",
       "      <th>academic</th>\n",
       "      <th>administrative</th>\n",
       "      <th>advertisement</th>\n",
       "      <th>fiction</th>\n",
       "      <th>guide</th>\n",
       "      <th>nonfiction</th>\n",
       "      <th>accuracy</th>\n",
       "      <th>macro_F1</th>\n",
       "      <th>weighted_F1</th>\n",
       "    </tr>\n",
       "  </thead>\n",
       "  <tbody>\n",
       "    <tr>\n",
       "      <th>0</th>\n",
       "      <td>xlmr-mlm</td>\n",
       "      <td>all</td>\n",
       "      <td>0.857143</td>\n",
       "      <td>0.817204</td>\n",
       "      <td>0.764706</td>\n",
       "      <td>0.95</td>\n",
       "      <td>0.517241</td>\n",
       "      <td>0.75</td>\n",
       "      <td>0.79798</td>\n",
       "      <td>0.776</td>\n",
       "      <td>0.779182</td>\n",
       "      <td>0.765642</td>\n",
       "    </tr>\n",
       "  </tbody>\n",
       "</table>\n",
       "</div>"
      ],
      "text/plain": [
       "      model size        QA  academic  administrative  advertisement   fiction  \\\n",
       "0  xlmr-mlm  all  0.857143  0.817204        0.764706           0.95  0.517241   \n",
       "\n",
       "   guide  nonfiction  accuracy  macro_F1  weighted_F1  \n",
       "0   0.75     0.79798     0.776  0.779182     0.765642  "
      ]
     },
     "execution_count": 14,
     "metadata": {},
     "output_type": "execute_result"
    }
   ],
   "source": [
    "df.query('size == \"all\"') #deu hmbert"
   ]
  },
  {
   "cell_type": "code",
   "execution_count": 9,
   "metadata": {},
   "outputs": [
    {
     "data": {
      "text/html": [
       "<div>\n",
       "<style scoped>\n",
       "    .dataframe tbody tr th:only-of-type {\n",
       "        vertical-align: middle;\n",
       "    }\n",
       "\n",
       "    .dataframe tbody tr th {\n",
       "        vertical-align: top;\n",
       "    }\n",
       "\n",
       "    .dataframe thead th {\n",
       "        text-align: right;\n",
       "    }\n",
       "</style>\n",
       "<table border=\"1\" class=\"dataframe\">\n",
       "  <thead>\n",
       "    <tr style=\"text-align: right;\">\n",
       "      <th></th>\n",
       "      <th>model</th>\n",
       "      <th>size</th>\n",
       "      <th>QA</th>\n",
       "      <th>academic</th>\n",
       "      <th>administrative</th>\n",
       "      <th>advertisement</th>\n",
       "      <th>guide</th>\n",
       "      <th>nonfiction</th>\n",
       "      <th>accuracy</th>\n",
       "      <th>macro_F1</th>\n",
       "      <th>weighted_F1</th>\n",
       "    </tr>\n",
       "  </thead>\n",
       "  <tbody>\n",
       "    <tr>\n",
       "      <th>0</th>\n",
       "      <td>xlmr-mlm</td>\n",
       "      <td>all</td>\n",
       "      <td>0.723404</td>\n",
       "      <td>0.745763</td>\n",
       "      <td>0.900901</td>\n",
       "      <td>0.936364</td>\n",
       "      <td>0.685714</td>\n",
       "      <td>0.857143</td>\n",
       "      <td>0.863813</td>\n",
       "      <td>0.808215</td>\n",
       "      <td>0.86205</td>\n",
       "    </tr>\n",
       "  </tbody>\n",
       "</table>\n",
       "</div>"
      ],
      "text/plain": [
       "      model size        QA  academic  administrative  advertisement     guide  \\\n",
       "0  xlmr-mlm  all  0.723404  0.745763        0.900901       0.936364  0.685714   \n",
       "\n",
       "   nonfiction  accuracy  macro_F1  weighted_F1  \n",
       "0    0.857143  0.863813  0.808215      0.86205  "
      ]
     },
     "execution_count": 9,
     "metadata": {},
     "output_type": "execute_result"
    }
   ],
   "source": [
    "df.query('size == \"all\"') #swe hmbert\n"
   ]
  },
  {
   "cell_type": "markdown",
   "metadata": {},
   "source": [
    "## Summary all models"
   ]
  },
  {
   "cell_type": "code",
   "execution_count": 70,
   "metadata": {},
   "outputs": [],
   "source": [
    "# hmbert = create_df(results)\n",
    "# mbert = create_df(results)\n",
    "# xlmr = create_df(results)\n",
    "# hmbert_mlm = create_df(results)\n",
    "# mbert_mlm = create_df(results)\n",
    "# xlmr_mlm = create_df(results)\n"
   ]
  },
  {
   "cell_type": "code",
   "execution_count": 71,
   "metadata": {},
   "outputs": [],
   "source": [
    "results_df = pd.concat([hmbert,hmbert_mlm,mbert,mbert_mlm,xlmr,xlmr_mlm],axis=0)\n",
    "results_df['size'] = results_df['size'].apply(lambda s: 1182 if s == 'all' else s)\n",
    "results_df['size']=results_df['size'].astype('int')\n"
   ]
  },
  {
   "cell_type": "code",
   "execution_count": 77,
   "metadata": {},
   "outputs": [
    {
     "name": "stdout",
     "output_type": "stream",
     "text": [
      "\\begin{tabular}{lrrrrrrrrrrrr}\n",
      "\\toprule\n",
      "model & \\multicolumn{2}{r}{XLM-RoBERTa} & \\multicolumn{2}{r}{XLM-RoBERTa-MLM} & \\multicolumn{2}{r}{hmBERT} & \\multicolumn{2}{r}{hmBERT-MLM} & \\multicolumn{2}{r}{mBERT} & \\multicolumn{2}{r}{mBERT-MLM} \\\\\n",
      "size & 500 & 1182 & 500 & 1182 & 500 & 1182 & 500 & 1182 & 500 & 1182 & 500 & 1182 \\\\\n",
      " & 4 & 3 & 1 & 2 & 3 & 4 & 1 & 0 & 2 & 3 & 1 & 2 \\\\\n",
      "\\midrule\n",
      "QA & 0.61 & 0.76 & 0.77 & 0.84 & 0.55 & 0.73 & 0.71 & 0.76 & 0.62 & 0.72 & 0.73 & 0.78 \\\\\n",
      "academic & 0.63 & 0.81 & 0.75 & 0.81 & 0.62 & 0.76 & 0.70 & 0.78 & 0.75 & 0.77 & 0.77 & 0.81 \\\\\n",
      "administrative & 0.78 & 0.84 & 0.79 & 0.84 & 0.70 & 0.82 & 0.77 & 0.86 & 0.82 & 0.82 & 0.80 & 0.86 \\\\\n",
      "advertisement & 0.81 & 0.93 & 0.90 & 0.93 & 0.84 & 0.91 & 0.89 & 0.93 & 0.87 & 0.92 & 0.87 & 0.92 \\\\\n",
      "fiction & 0.49 & 0.05 & 0.55 & 0.34 & 0.53 & 0.10 & 0.60 & 0.51 & 0.58 & 0.47 & 0.62 & 0.33 \\\\\n",
      "guide & 0.67 & 0.76 & 0.73 & 0.79 & 0.52 & 0.58 & 0.64 & 0.72 & 0.68 & 0.68 & 0.67 & 0.79 \\\\\n",
      "nonfiction & 0.30 & 0.72 & 0.42 & 0.77 & 0.42 & 0.74 & 0.62 & 0.80 & 0.51 & 0.75 & 0.53 & 0.78 \\\\\n",
      "accuracy & 0.63 & 0.78 & 0.72 & 0.81 & 0.63 & 0.76 & 0.73 & 0.82 & 0.71 & 0.78 & 0.73 & 0.81 \\\\\n",
      "macro_F1 & 0.61 & 0.69 & 0.70 & 0.76 & 0.60 & 0.67 & 0.71 & 0.77 & 0.69 & 0.73 & 0.71 & 0.75 \\\\\n",
      "\\bottomrule\n",
      "\\end{tabular}\n",
      "\n"
     ]
    }
   ],
   "source": [
    "print(results_df.query('size in [500, 1182]').groupby(['model','size'])\\\n",
    "      [['QA',\n",
    "      'academic',\n",
    "      'administrative',\n",
    "      'advertisement',\n",
    "      'fiction',\n",
    "      'guide',\n",
    "      'nonfiction',\n",
    "      'accuracy',\n",
    "      'macro_F1']].apply(lambda x: x)\n",
    "      .apply(lambda x: np.floor(x * 100) / 100) \n",
    "      .T.to_latex(float_format=\"%.2f\"))"
   ]
  },
  {
   "cell_type": "code",
   "execution_count": 89,
   "metadata": {},
   "outputs": [
    {
     "data": {
      "text/plain": [
       "18.579234972677597"
      ]
     },
     "execution_count": 89,
     "metadata": {},
     "output_type": "execute_result"
    }
   ],
   "source": [
    "results_df.groupby('model')['macro_F1'].mean()\n",
    "\n",
    "mlm = np.mean([0.59, 0.62, 0.62])\n",
    "no = np.mean([0.49, 0.47, 0.53])\n",
    "(mlm - no) / mlm * 100\n",
    "\n"
   ]
  },
  {
   "cell_type": "code",
   "execution_count": 107,
   "metadata": {},
   "outputs": [
    {
     "data": {
      "image/png": "[encoded data removed]",
      "text/plain": [
       "<Figure size 800x500 with 1 Axes>"
      ]
     },
     "metadata": {},
     "output_type": "display_data"
    }
   ],
   "source": [
    "import seaborn as sns\n",
    "plt.figure(figsize=(8, 5))\n",
    "sns.lineplot(x='size', y='fiction', \n",
    "             hue='model',\n",
    "             linewidth=1,\n",
    "             #marker='o', \n",
    "             data=results_df.sort_values(by='size'))\n",
    "\n",
    "# Add labels and title\n",
    "plt.xlabel('dataset size', fontsize='16')\n",
    "plt.ylabel('F1', fontsize='16')\n",
    "plt.title('')\n",
    "\n",
    "# Show plot\n",
    "plt.legend(title='Model',title_fontsize=14, fontsize=12, loc='lower left')\n",
    "plt.show()"
   ]
  },
  {
   "cell_type": "code",
   "execution_count": 84,
   "metadata": {},
   "outputs": [
    {
     "data": {
      "image/png": "[encoded data removed]",
      "text/plain": [
       "<Figure size 800x500 with 2 Axes>"
      ]
     },
     "metadata": {},
     "output_type": "display_data"
    }
   ],
   "source": [
    "import seaborn as sns\n",
    "import matplotlib.pyplot as plt\n",
    "from mpl_toolkits.axes_grid1.inset_locator import inset_axes\n",
    "# plt.figure(figsize=(7, 5))\n",
    "fig, ax = plt.subplots(figsize=(8, 5))\n",
    "# sns.set_style(\"whitegrid\")\n",
    "sns.set_style(\"ticks\")\n",
    "sns.lineplot(x='size', y='macro_F1', \n",
    "             hue='model',\n",
    "             linewidth=1,\n",
    "             #marker='o', \n",
    "             data=results_df.sort_values(by='size'), ax=ax)\n",
    "\n",
    "# Add labels and title\n",
    "ax.set_xlabel('dataset size', fontsize='14')\n",
    "ax.set_ylabel('F1', fontsize='14')\n",
    "ax.set_title('')\n",
    "\n",
    "# Show plot\n",
    "ax.legend(title='Model',title_fontsize=15, fontsize=14)\n",
    "\n",
    "# Define the zoomed-in area\n",
    "zoom_xmin, zoom_xmax = 1000, 1182\n",
    "zoom_ymin, zoom_ymax = 0.70, 0.80\n",
    "\n",
    "# Create the inset axes for the zoomed-in area\n",
    "ax_inset = inset_axes(ax, width=\"30%\", height=\"30%\", loc=\"lower center\")  # Adjust location\n",
    "\n",
    "# Plot the same data in the inset\n",
    "sns.lineplot(x='size', y='macro_F1', hue='model', marker='o', data=results_df.sort_values(by='size'), ax=ax_inset, legend=False)\n",
    "\n",
    "# Set the zoomed-in limits\n",
    "ax_inset.set_xlim(zoom_xmin, zoom_xmax)\n",
    "ax_inset.set_ylim(zoom_ymin, zoom_ymax)\n",
    "\n",
    "# Add a rectangle on the main plot to highlight the zoomed-in area\n",
    "rect = plt.Rectangle((zoom_xmin, zoom_ymin), zoom_xmax - zoom_xmin, zoom_ymax - zoom_ymin, \n",
    "                     linewidth=1.5, edgecolor='red', facecolor='none')\n",
    "ax.add_patch(rect)\n",
    "\n",
    "plt.show()"
   ]
  },
  {
   "cell_type": "markdown",
   "metadata": {},
   "source": [
    "# zero-shot tables"
   ]
  },
  {
   "cell_type": "markdown",
   "metadata": {},
   "source": [
    "## all"
   ]
  },
  {
   "cell_type": "code",
   "execution_count": 73,
   "metadata": {},
   "outputs": [],
   "source": [
    "all_results = pd.DataFrame(results,columns=['model',\n",
    "                              'dataset',\n",
    "                              'germaniconly',\n",
    "                              'genre_map',\n",
    "                              'chunked',\n",
    "                              'withpunkt',\n",
    "                              'balanced',\n",
    "                              'QA',\n",
    "                              'academic',\n",
    "                              'administrative',\n",
    "                              'advertisement',\n",
    "                              'fiction',\n",
    "                              'guide',\n",
    "                              'legal',\n",
    "                              'news',\n",
    "                              'nonfiction',\n",
    "                              'accuracy',\n",
    "                              'macro_F1',\n",
    "                              'weighted_F1'])"
   ]
  },
  {
   "cell_type": "code",
   "execution_count": 74,
   "metadata": {},
   "outputs": [],
   "source": [
    "all_results.to_csv('all_results.csv')"
   ]
  },
  {
   "cell_type": "code",
   "execution_count": 75,
   "metadata": {},
   "outputs": [],
   "source": [
    "cols=[\n",
    "    'QA',\n",
    "    'academic',\n",
    "    'administrative',\n",
    "    'advertisement',\n",
    "    'fiction',\n",
    "    'guide',\n",
    "    'legal',\n",
    "    'news',\n",
    "    'nonfiction',\n",
    "    'accuracy',\n",
    "    'macro_F1',\n",
    "    'weighted_F1']"
   ]
  },
  {
   "cell_type": "code",
   "execution_count": 166,
   "metadata": {},
   "outputs": [
    {
     "name": "stdout",
     "output_type": "stream",
     "text": [
      "\\begin{tabular}{lrrr}\n",
      "\\toprule\n",
      "model & hmbert & mbert & xlmr \\\\\n",
      "\\midrule\n",
      "QA & 0.10 & 0.05 & 0.43 \\\\\n",
      "academic & 0.18 & 0.15 & 0.27 \\\\\n",
      "administrative & 0.24 & 0.18 & 0.14 \\\\\n",
      "advertisement & 0.22 & 0.23 & 0.34 \\\\\n",
      "fiction & 0.36 & 0.19 & 0.40 \\\\\n",
      "guide & 0.18 & 0.17 & 0.28 \\\\\n",
      "legal & 0.19 & 0.21 & 0.45 \\\\\n",
      "news & 0.01 & 0.02 & 0.04 \\\\\n",
      "nonfiction & 0.17 & 0.09 & 0.14 \\\\\n",
      "\\bottomrule\n",
      "\\end{tabular}\n",
      "\n"
     ]
    }
   ],
   "source": [
    "print(all_results.groupby('model')[['QA',\n",
    "    'academic',\n",
    "    'administrative',\n",
    "    'advertisement',\n",
    "    'fiction',\n",
    "    'guide',\n",
    "    'legal',\n",
    "    'news',\n",
    "    'nonfiction',]].mean().round(2).T.to_latex(float_format=\"%.2f\"))"
   ]
  },
  {
   "cell_type": "code",
   "execution_count": 84,
   "metadata": {},
   "outputs": [
    {
     "data": {
      "text/plain": [
       "(0.20145369310094982, 0.2104335561734292)"
      ]
     },
     "execution_count": 84,
     "metadata": {},
     "output_type": "execute_result"
    }
   ],
   "source": [
    "all_results.macro_F1.mean(), all_results.weighted_F1.mean()"
   ]
  },
  {
   "cell_type": "code",
   "execution_count": 170,
   "metadata": {},
   "outputs": [
    {
     "name": "stdout",
     "output_type": "stream",
     "text": [
      "|                              |   academic |   advertisement |   fiction |    guide |     legal |       news |   nonfiction |   accuracy |   macro_F1 |   weighted_F1 |\n",
      "|:-----------------------------|-----------:|----------------:|----------:|---------:|----------:|-----------:|-------------:|-----------:|-----------:|--------------:|\n",
      "| ('xlmr', 'True', 'True')     |  0.261682  |       0.502793  |  0.337349 | 0.36     | 0.675676  | 0.0414508  |    0.227848  |  0.320652  |   0.351916 |      0.362918 |\n",
      "| ('xlmr', 'False', 'True')    |  0.382979  |       0.465116  |  0.422535 | 0.289655 | 0.294737  | 0.038835   |    0.164179  |  0.269928  |   0.290655 |      0.307539 |\n",
      "| ('xlmr', 'False', 'False')   |  0.306569  |       0.0869565 |  0.470588 | 0.241379 | 0.55914   | 0.0287081  |    0.0689655 |  0.213768  |   0.251168 |      0.202792 |\n",
      "| ('xlmr', 'True', 'False_')   |  0.122449  |       0.316456  |  0.373626 | 0.24186  | 0.266667  | 0.033195   |    0.115702  |  0.192029  |   0.214765 |      0.220782 |\n",
      "| ('hmbert', 'False', 'True')  |  0.25      |       0.0296296 |  0.426667 | 0.17037  | 0.25      | 0.0115607  |    0.369942  |  0.192029  |   0.209902 |      0.212755 |\n",
      "| ('hmbert', 'True', 'True')   |  0.258065  |       0.416185  |  0.285714 | 0.197674 | 0.0754717 | 0.0155039  |    0.150376  |  0.192029  |   0.193699 |      0.245036 |\n",
      "| ('mbert', 'False', 'True')   |  0.247423  |       0.216216  |  0.268293 | 0.193237 | 0.153846  | 0.0489796  |    0.213333  |  0.17029   |   0.18279  |      0.200161 |\n",
      "| ('hmbert', 'False', 'False') |  0.121951  |       0.220779  |  0.357895 | 0.18797  | 0.375     | 0.0185185  |    0.126984  |  0.15942   |   0.170996 |      0.174938 |\n",
      "| ('mbert', 'True', 'True')    |  0.111111  |       0.343558  |  0.128205 | 0.19209  | 0.245614  | 0.0348432  |    0.05      |  0.155797  |   0.163229 |      0.193601 |\n",
      "| ('hmbert', 'True', 'False')  |  0.0722892 |       0.197368  |  0.357143 | 0.157025 | 0.0571429 | 0.00840336 |    0.0353982 |  0.143116  |   0.157547 |      0.159728 |\n",
      "| ('mbert', 'True', 'False')   |  0.153846  |       0.211921  |  0.135593 | 0.156682 | 0.177778  | 0.00706714 |    0.0347826 |  0.11413   |   0.129021 |      0.144569 |\n",
      "| ('mbert', 'False', 'False')  |  0.0990099 |       0.138889  |  0.225352 | 0.146718 | 0.254545  | 0          |    0.0512821 |  0.0942029 |   0.101755 |      0.100383 |\n"
     ]
    }
   ],
   "source": [
    "print(all_results.groupby(['model','germaniconly','balanced'])[cols].mean()\\\n",
    "      .sort_values(by='macro_F1', ascending=False)\n",
    "      .to_markdown())"
   ]
  },
  {
   "cell_type": "code",
   "execution_count": 167,
   "metadata": {},
   "outputs": [
    {
     "name": "stdout",
     "output_type": "stream",
     "text": [
      "\\begin{tabular}{lllrrrrrrrrrr}\n",
      "\\toprule\n",
      " &  &  & academic & advertisement & fiction & guide & legal & news & nonfiction & accuracy & macro_F1 & weighted_F1 \\\\\n",
      "model & germaniconly & balanced &  &  &  &  &  &  &  &  &  &  \\\\\n",
      "\\midrule\n",
      "\\multirow[t]{4}{*}{xlmr} & True & True & 0.26 & 0.50 & 0.34 & 0.36 & 0.68 & 0.04 & 0.23 & 0.32 & 0.35 & 0.36 \\\\\n",
      "\\cline{2-13}\n",
      " & \\multirow[t]{2}{*}{False} & True & 0.38 & 0.47 & 0.42 & 0.29 & 0.29 & 0.04 & 0.16 & 0.27 & 0.29 & 0.31 \\\\\n",
      " &  & False & 0.31 & 0.09 & 0.47 & 0.24 & 0.56 & 0.03 & 0.07 & 0.21 & 0.25 & 0.20 \\\\\n",
      "\\cline{2-13}\n",
      " & True & False_ & 0.12 & 0.32 & 0.37 & 0.24 & 0.27 & 0.03 & 0.12 & 0.19 & 0.21 & 0.22 \\\\\n",
      "\\cline{1-13} \\cline{2-13}\n",
      "\\multirow[t]{2}{*}{hmbert} & False & True & 0.25 & 0.03 & 0.43 & 0.17 & 0.25 & 0.01 & 0.37 & 0.19 & 0.21 & 0.21 \\\\\n",
      "\\cline{2-13}\n",
      " & True & True & 0.26 & 0.42 & 0.29 & 0.20 & 0.08 & 0.02 & 0.15 & 0.19 & 0.19 & 0.25 \\\\\n",
      "\\cline{1-13} \\cline{2-13}\n",
      "mbert & False & True & 0.25 & 0.22 & 0.27 & 0.19 & 0.15 & 0.05 & 0.21 & 0.17 & 0.18 & 0.20 \\\\\n",
      "\\cline{1-13} \\cline{2-13}\n",
      "hmbert & False & False & 0.12 & 0.22 & 0.36 & 0.19 & 0.38 & 0.02 & 0.13 & 0.16 & 0.17 & 0.17 \\\\\n",
      "\\cline{1-13} \\cline{2-13}\n",
      "mbert & True & True & 0.11 & 0.34 & 0.13 & 0.19 & 0.25 & 0.03 & 0.05 & 0.16 & 0.16 & 0.19 \\\\\n",
      "\\cline{1-13} \\cline{2-13}\n",
      "hmbert & True & False & 0.07 & 0.20 & 0.36 & 0.16 & 0.06 & 0.01 & 0.04 & 0.14 & 0.16 & 0.16 \\\\\n",
      "\\cline{1-13} \\cline{2-13}\n",
      "\\multirow[t]{2}{*}{mbert} & True & False & 0.15 & 0.21 & 0.14 & 0.16 & 0.18 & 0.01 & 0.03 & 0.11 & 0.13 & 0.14 \\\\\n",
      "\\cline{2-13}\n",
      " & False & False & 0.10 & 0.14 & 0.23 & 0.15 & 0.25 & 0.00 & 0.05 & 0.09 & 0.10 & 0.10 \\\\\n",
      "\\cline{1-13} \\cline{2-13}\n",
      "\\bottomrule\n",
      "\\end{tabular}\n",
      "\n"
     ]
    }
   ],
   "source": [
    "print(all_results.groupby(['model','germaniconly','balanced'])[cols].mean()\\\n",
    "      .sort_values(by='macro_F1', ascending=False)\n",
    "      .to_latex(float_format=\"%.2f\"))"
   ]
  },
  {
   "cell_type": "code",
   "execution_count": 169,
   "metadata": {},
   "outputs": [
    {
     "name": "stdout",
     "output_type": "stream",
     "text": [
      "|                     |   academic |   advertisement |   fiction |    guide |    legal |       news |   nonfiction |   accuracy |   macro_F1 |   weighted_F1 |\n",
      "|:--------------------|-----------:|----------------:|----------:|---------:|---------:|-----------:|-------------:|-----------:|-----------:|--------------:|\n",
      "| ('xlmr', 'True')    |  0.32233   |       0.483955  |  0.379942 | 0.324828 | 0.485206 | 0.0401429  |    0.196014  |   0.29529  |   0.321285 |      0.335229 |\n",
      "| ('xlmr', 'False')   |  0.306569  |       0.0869565 |  0.470588 | 0.241379 | 0.55914  | 0.0287081  |    0.0689655 |   0.213768 |   0.251168 |      0.202792 |\n",
      "| ('xlmr', 'False_')  |  0.122449  |       0.316456  |  0.373626 | 0.24186  | 0.266667 | 0.033195   |    0.115702  |   0.192029 |   0.214765 |      0.220782 |\n",
      "| ('hmbert', 'True')  |  0.254032  |       0.222907  |  0.35619  | 0.184022 | 0.162736 | 0.0135323  |    0.260159  |   0.192029 |   0.201801 |      0.228896 |\n",
      "| ('mbert', 'True')   |  0.179267  |       0.279887  |  0.198249 | 0.192664 | 0.19973  | 0.0419114  |    0.131667  |   0.163043 |   0.173009 |      0.196881 |\n",
      "| ('hmbert', 'False') |  0.0971202 |       0.209074  |  0.357519 | 0.172497 | 0.216071 | 0.0134609  |    0.0811912 |   0.151268 |   0.164272 |      0.167333 |\n",
      "| ('mbert', 'False')  |  0.126428  |       0.175405  |  0.180473 | 0.1517   | 0.216162 | 0.00353357 |    0.0430323 |   0.104167 |   0.115388 |      0.122476 |\n"
     ]
    }
   ],
   "source": [
    "print(all_results.groupby(['model','balanced'])[cols].mean()\\\n",
    "      .sort_values(by='macro_F1', ascending=False)\n",
    "      .to_markdown())"
   ]
  },
  {
   "cell_type": "code",
   "execution_count": 168,
   "metadata": {},
   "outputs": [
    {
     "name": "stdout",
     "output_type": "stream",
     "text": [
      "\\begin{tabular}{llrrrrrrrrrr}\n",
      "\\toprule\n",
      " &  & academic & advertisement & fiction & guide & legal & news & nonfiction & accuracy & macro_F1 & weighted_F1 \\\\\n",
      "model & balanced &  &  &  &  &  &  &  &  &  &  \\\\\n",
      "\\midrule\n",
      "\\multirow[t]{3}{*}{xlmr} & True & 0.32 & 0.48 & 0.38 & 0.32 & 0.49 & 0.04 & 0.20 & 0.30 & 0.32 & 0.34 \\\\\n",
      " & False & 0.31 & 0.09 & 0.47 & 0.24 & 0.56 & 0.03 & 0.07 & 0.21 & 0.25 & 0.20 \\\\\n",
      " & False_ & 0.12 & 0.32 & 0.37 & 0.24 & 0.27 & 0.03 & 0.12 & 0.19 & 0.21 & 0.22 \\\\\n",
      "\\cline{1-12}\n",
      "hmbert & True & 0.25 & 0.22 & 0.36 & 0.18 & 0.16 & 0.01 & 0.26 & 0.19 & 0.20 & 0.23 \\\\\n",
      "\\cline{1-12}\n",
      "mbert & True & 0.18 & 0.28 & 0.20 & 0.19 & 0.20 & 0.04 & 0.13 & 0.16 & 0.17 & 0.20 \\\\\n",
      "\\cline{1-12}\n",
      "hmbert & False & 0.10 & 0.21 & 0.36 & 0.17 & 0.22 & 0.01 & 0.08 & 0.15 & 0.16 & 0.17 \\\\\n",
      "\\cline{1-12}\n",
      "mbert & False & 0.13 & 0.18 & 0.18 & 0.15 & 0.22 & 0.00 & 0.04 & 0.10 & 0.12 & 0.12 \\\\\n",
      "\\cline{1-12}\n",
      "\\bottomrule\n",
      "\\end{tabular}\n",
      "\n"
     ]
    }
   ],
   "source": [
    "print(all_results.groupby(['model','balanced'])[cols].mean()\\\n",
    "      .sort_values(by='macro_F1', ascending=False)\n",
    "      .to_latex(float_format=\"%.2f\"))"
   ]
  },
  {
   "cell_type": "code",
   "execution_count": 78,
   "metadata": {},
   "outputs": [
    {
     "name": "stdout",
     "output_type": "stream",
     "text": [
      "| germaniconly   |       QA |   academic |   administrative |   advertisement |   fiction |    guide |    legal |      news |   nonfiction |   accuracy |   macro_F1 |   weighted_F1 |\n",
      "|:---------------|---------:|-----------:|-----------------:|----------------:|----------:|---------:|---------:|----------:|-------------:|-----------:|-----------:|--------------:|\n",
      "| True           | 0.186746 |   0.16324  |         0.271252 |        0.33138  |  0.269605 | 0.217555 | 0.249725 | 0.0234106 |     0.102351 |   0.186292 |   0.201696 |      0.221106 |\n",
      "| False          | 0.202057 |   0.234655 |         0.109722 |        0.192931 |  0.361888 | 0.204888 | 0.314545 | 0.0244336 |     0.165781 |   0.183273 |   0.201211 |      0.199761 |\n"
     ]
    }
   ],
   "source": [
    "print(all_results.groupby(['germaniconly'])[cols].mean().sort_values(by='macro_F1', ascending=False).to_markdown())"
   ]
  },
  {
   "cell_type": "code",
   "execution_count": 79,
   "metadata": {},
   "outputs": [
    {
     "name": "stdout",
     "output_type": "stream",
     "text": [
      "| balanced   |       QA |   academic |   administrative |   advertisement |   fiction |    guide |    legal |      news |   nonfiction |   accuracy |   macro_F1 |   weighted_F1 |\n",
      "|:-----------|---------:|-----------:|-----------------:|----------------:|----------:|---------:|---------:|----------:|-------------:|-----------:|-----------:|--------------:|\n",
      "| True       | 0.231697 |   0.251877 |         0.220133 |        0.328916 |  0.311461 | 0.233838 | 0.282557 | 0.0318622 |    0.195946  |   0.216787 |   0.232032 |      0.253668 |\n",
      "| False_     | 0.285714 |   0.122449 |         0.177215 |        0.316456 |  0.373626 | 0.24186  | 0.266667 | 0.033195  |    0.115702  |   0.192029 |   0.214765 |      0.220782 |\n",
      "| False      | 0.131385 |   0.150733 |         0.157565 |        0.171183 |  0.309314 | 0.177955 | 0.284721 | 0.0125394 |    0.0634825 |   0.144928 |   0.162098 |      0.156482 |\n"
     ]
    }
   ],
   "source": [
    "print(all_results.groupby(['balanced'])[cols].mean().sort_values(by='macro_F1', ascending=False).to_markdown())"
   ]
  },
  {
   "cell_type": "code",
   "execution_count": 80,
   "metadata": {},
   "outputs": [
    {
     "name": "stdout",
     "output_type": "stream",
     "text": [
      "| model   |        QA |   academic |   administrative |   advertisement |   fiction |    guide |    legal |      news |   nonfiction |   accuracy |   macro_F1 |   weighted_F1 |\n",
      "|:--------|----------:|-----------:|-----------------:|----------------:|----------:|---------:|---------:|----------:|-------------:|-----------:|-----------:|--------------:|\n",
      "| xlmr    | 0.425192  |   0.26842  |         0.144668 |        0.34283  |  0.401025 | 0.283224 | 0.449055 | 0.0355472 |    0.144174  |   0.249094 |   0.277126 |      0.273508 |\n",
      "| hmbert  | 0.103896  |   0.175576 |         0.243175 |        0.215991 |  0.356855 | 0.17826  | 0.189404 | 0.0134966 |    0.170675  |   0.171649 |   0.183036 |      0.198115 |\n",
      "| mbert   | 0.0541166 |   0.152847 |         0.183618 |        0.227646 |  0.189361 | 0.172182 | 0.207946 | 0.0227225 |    0.0873495 |   0.133605 |   0.144199 |      0.159678 |\n"
     ]
    }
   ],
   "source": [
    "print(all_results.groupby(['model'])[cols].mean().sort_values(by='macro_F1', ascending=False).to_markdown())"
   ]
  },
  {
   "cell_type": "code",
   "execution_count": 82,
   "metadata": {},
   "outputs": [
    {
     "name": "stdout",
     "output_type": "stream",
     "text": [
      "|    | model   | dataset   | germaniconly   |   genre_map | chunked   | withpunkt   | balanced   |        QA |   academic |   administrative |   advertisement |   fiction |    guide |     legal |       news |   nonfiction |   accuracy |   macro_F1 |   weighted_F1 |\n",
      "|---:|:--------|:----------|:---------------|------------:|:----------|:------------|:-----------|----------:|-----------:|-----------------:|----------------:|----------:|---------:|----------:|-----------:|-------------:|-----------:|-----------:|--------------:|\n",
      "|  4 | xlmr    | all       | True           |           4 | True      | True        | True       | 0.519481  |  0.261682  |        0.240964  |       0.502793  |  0.337349 | 0.36     | 0.675676  | 0.0414508  |    0.227848  |  0.320652  |   0.351916 |      0.362918 |\n",
      "|  5 | xlmr    | all       | False          |           4 | True      | True        | True       | 0.508475  |  0.382979  |        0.0493827 |       0.465116  |  0.422535 | 0.289655 | 0.294737  | 0.038835   |    0.164179  |  0.269928  |   0.290655 |      0.307539 |\n",
      "| 10 | xlmr    | all       | False          |           4 | True      | True        | False      | 0.387097  |  0.306569  |        0.111111  |       0.0869565 |  0.470588 | 0.241379 | 0.55914   | 0.0287081  |    0.0689655 |  0.213768  |   0.251168 |      0.202792 |\n",
      "|  2 | xlmr    | all       | True           |           4 | True      | True        | False_     | 0.285714  |  0.122449  |        0.177215  |       0.316456  |  0.373626 | 0.24186  | 0.266667  | 0.033195   |    0.115702  |  0.192029  |   0.214765 |      0.220782 |\n",
      "|  3 | hmbert  | all       | False          |           4 | True      | True        | True       | 0.142857  |  0.25      |        0.238095  |       0.0296296 |  0.426667 | 0.17037  | 0.25      | 0.0115607  |    0.369942  |  0.192029  |   0.209902 |      0.212755 |\n",
      "|  6 | hmbert  | all       | True           |           4 | True      | True        | True       | 0.0454545 |  0.258065  |        0.298851  |       0.416185  |  0.285714 | 0.197674 | 0.0754717 | 0.0155039  |    0.150376  |  0.192029  |   0.193699 |      0.245036 |\n",
      "|  9 | mbert   | all       | False          |           4 | True      | True        | True       | 0.173913  |  0.247423  |        0.12987   |       0.216216  |  0.268293 | 0.193237 | 0.153846  | 0.0489796  |    0.213333  |  0.17029   |   0.18279  |      0.200161 |\n",
      "|  0 | hmbert  | all       | False          |           4 | True      | True        | False      | 0         |  0.121951  |        0.12987   |       0.220779  |  0.357895 | 0.18797  | 0.375     | 0.0185185  |    0.126984  |  0.15942   |   0.170996 |      0.174938 |\n",
      "|  8 | mbert   | all       | True           |           4 | True      | True        | True       | 0         |  0.111111  |        0.363636  |       0.343558  |  0.128205 | 0.19209  | 0.245614  | 0.0348432  |    0.05      |  0.155797  |   0.163229 |      0.193601 |\n",
      "| 11 | hmbert  | all       | True           |           4 | True      | True        | False      | 0.227273  |  0.0722892 |        0.305882  |       0.197368  |  0.357143 | 0.157025 | 0.0571429 | 0.00840336 |    0.0353982 |  0.143116  |   0.157547 |      0.159728 |\n",
      "|  7 | mbert   | all       | True           |           4 | True      | True        | False      | 0.0425532 |  0.153846  |        0.240964  |       0.211921  |  0.135593 | 0.156682 | 0.177778  | 0.00706714 |    0.0347826 |  0.11413   |   0.129021 |      0.144569 |\n",
      "|  1 | mbert   | all       | False          |           4 | True      | True        | False      | 0         |  0.0990099 |        0         |       0.138889  |  0.225352 | 0.146718 | 0.254545  | 0          |    0.0512821 |  0.0942029 |   0.101755 |      0.100383 |\n"
     ]
    }
   ],
   "source": [
    "print(all_results.sort_values(by='macro_F1', ascending=False).to_markdown())"
   ]
  },
  {
   "cell_type": "markdown",
   "metadata": {},
   "source": [
    "## prediction with XGENRE"
   ]
  },
  {
   "cell_type": "code",
   "execution_count": 65,
   "metadata": {},
   "outputs": [
    {
     "name": "stderr",
     "output_type": "stream",
     "text": [
      "/home/vera/act-genre/lib/python3.12/site-packages/transformers/tokenization_utils_base.py:1602: FutureWarning: `clean_up_tokenization_spaces` was not set. It will be set to `True` by default. This behavior will be deprecated in transformers v4.45, and will be then set to `False` by default. For more details check this issue: https://github.com/huggingface/transformers/issues/31884\n",
      "  warnings.warn(\n"
     ]
    }
   ],
   "source": [
    "test_df_path = '/zpool/aurora-main/scratch/vera/actdisease-genre/zero_shot.dev.csv'\n",
    "test_df=pd.read_csv(test_df_path, index_col=0)\n",
    "\n",
    "model = AutoModelForSequenceClassification.from_pretrained('classla/xlm-roberta-base-multilingual-text-genre-classifier')\n",
    "tokenizer = AutoTokenizer.from_pretrained('classla/xlm-roberta-base-multilingual-text-genre-classifier')\n",
    "model.to(device)\n",
    "model.eval()\n",
    "def tokenize(texts):\n",
    "    return tokenizer(texts, padding=True, truncation=True, return_tensors=\"pt\", max_length=512)\n",
    "inputs = tokenize(test_df['text'].tolist())\n",
    "dataset = TensorDataset(inputs['input_ids'], inputs['attention_mask'])\n",
    "test_loader = DataLoader(dataset, batch_size=8)\n",
    "all_preds=gen_predictions(test_loader, model)"
   ]
  },
  {
   "cell_type": "code",
   "execution_count": 66,
   "metadata": {},
   "outputs": [],
   "source": [
    "all_preds = [model.config.id2label[i] for i in all_preds]"
   ]
  },
  {
   "cell_type": "code",
   "execution_count": 67,
   "metadata": {},
   "outputs": [],
   "source": [
    "# label2label={\n",
    "# 'Other': None,\n",
    "# 'Information/Explanation': None,\n",
    "# 'News': 'news',\n",
    "# 'Instruction': 'guide',\n",
    "# 'Opinion/Argumentation': None,\n",
    "# 'Forum': None,\n",
    "# 'Prose/Lyrical': 'fiction',\n",
    "# 'Legal': 'legal',\n",
    "# 'Promotion': 'advertisement'\n",
    "# }\n",
    "\n",
    "#test\n",
    "# label2label={\n",
    "# 'Other': 'Other',\n",
    "# 'Information/Explanation': 'academic',\n",
    "# 'News': 'news',\n",
    "# 'Instruction': 'guide',\n",
    "# 'Opinion/Argumentation': 'nonfiction',\n",
    "# 'Forum': 'QA',\n",
    "# 'Prose/Lyrical': 'fiction',\n",
    "# 'Legal': 'legal',\n",
    "# 'Promotion': 'advertisement'\n",
    "# }\n"
   ]
  },
  {
   "cell_type": "code",
   "execution_count": 68,
   "metadata": {},
   "outputs": [],
   "source": [
    "all_preds = [label2label[i] for i in all_preds]"
   ]
  },
  {
   "cell_type": "code",
   "execution_count": 69,
   "metadata": {},
   "outputs": [],
   "source": [
    "test_df['pred']=all_preds"
   ]
  },
  {
   "cell_type": "code",
   "execution_count": 39,
   "metadata": {},
   "outputs": [],
   "source": [
    "test_df = test_df.dropna()\n"
   ]
  },
  {
   "cell_type": "code",
   "execution_count": 45,
   "metadata": {},
   "outputs": [
    {
     "data": {
      "text/plain": [
       "array(['legal', 'academic', 'news', 'advertisement', 'guide',\n",
       "       'nonfiction', 'fiction', 'QA'], dtype=object)"
      ]
     },
     "execution_count": 45,
     "metadata": {},
     "output_type": "execute_result"
    }
   ],
   "source": [
    "test_df.pred.unique()"
   ]
  },
  {
   "cell_type": "code",
   "execution_count": 70,
   "metadata": {},
   "outputs": [
    {
     "name": "stderr",
     "output_type": "stream",
     "text": [
      "/home/vera/act-genre/lib/python3.12/site-packages/sklearn/metrics/_classification.py:1531: UndefinedMetricWarning: Precision is ill-defined and being set to 0.0 in labels with no predicted samples. Use `zero_division` parameter to control this behavior.\n",
      "  _warn_prf(average, modifier, f\"{metric.capitalize()} is\", len(result))\n",
      "/home/vera/act-genre/lib/python3.12/site-packages/sklearn/metrics/_classification.py:1531: UndefinedMetricWarning: Recall is ill-defined and being set to 0.0 in labels with no true samples. Use `zero_division` parameter to control this behavior.\n",
      "  _warn_prf(average, modifier, f\"{metric.capitalize()} is\", len(result))\n",
      "/home/vera/act-genre/lib/python3.12/site-packages/sklearn/metrics/_classification.py:1531: UndefinedMetricWarning: Precision is ill-defined and being set to 0.0 in labels with no predicted samples. Use `zero_division` parameter to control this behavior.\n",
      "  _warn_prf(average, modifier, f\"{metric.capitalize()} is\", len(result))\n",
      "/home/vera/act-genre/lib/python3.12/site-packages/sklearn/metrics/_classification.py:1531: UndefinedMetricWarning: Recall is ill-defined and being set to 0.0 in labels with no true samples. Use `zero_division` parameter to control this behavior.\n",
      "  _warn_prf(average, modifier, f\"{metric.capitalize()} is\", len(result))\n",
      "/home/vera/act-genre/lib/python3.12/site-packages/sklearn/metrics/_classification.py:1531: UndefinedMetricWarning: Precision is ill-defined and being set to 0.0 in labels with no predicted samples. Use `zero_division` parameter to control this behavior.\n",
      "  _warn_prf(average, modifier, f\"{metric.capitalize()} is\", len(result))\n",
      "/home/vera/act-genre/lib/python3.12/site-packages/sklearn/metrics/_classification.py:1531: UndefinedMetricWarning: Recall is ill-defined and being set to 0.0 in labels with no true samples. Use `zero_division` parameter to control this behavior.\n",
      "  _warn_prf(average, modifier, f\"{metric.capitalize()} is\", len(result))\n"
     ]
    }
   ],
   "source": [
    "y_true = test_df.label\n",
    "y_pred = test_df.pred\n",
    "report = classification_report(y_true, y_pred, output_dict=True)\n"
   ]
  },
  {
   "cell_type": "code",
   "execution_count": 64,
   "metadata": {},
   "outputs": [
    {
     "name": "stdout",
     "output_type": "stream",
     "text": [
      "|    | model   |   advertisement |   academic |   nonfiction |      QA |   fiction |    guide |    legal |      news |   accuracy |   macro_F1 |   weighted_F1 |\n",
      "|---:|:--------|----------------:|-----------:|-------------:|--------:|----------:|---------:|---------:|----------:|-----------:|-----------:|--------------:|\n",
      "|  0 | XGENRE  |        0.693694 |   0.466667 |            0 | 0.40678 |  0.393939 | 0.597701 | 0.666667 | 0.0869565 |   0.371377 |   0.301128 |      0.376274 |\n"
     ]
    }
   ],
   "source": [
    "results=[]\n",
    "f_measure_per_class = {key: value['f1-score'] for key, value in report.items() if type(value) == dict}\n",
    "average_metrics = {\n",
    "'accuracy': report['accuracy'],\n",
    "'macro_F1': report['macro avg']['f1-score'],\n",
    "'weighted_F1': report['weighted avg']['f1-score']}\n",
    "f_per_class=[\n",
    "f_measure_per_class['advertisement'],\n",
    "f_measure_per_class['academic'],\n",
    "f_measure_per_class['nonfiction'],\n",
    "f_measure_per_class['QA'],\n",
    "f_measure_per_class['fiction'],\n",
    "f_measure_per_class['guide'],\n",
    "f_measure_per_class['legal'],\n",
    "f_measure_per_class['news'],\n",
    "]\n",
    "results=[['XGENRE']+f_per_class+[average_metrics['accuracy'],average_metrics['macro_F1'],average_metrics['weighted_F1']]]\n",
    "print(pd.DataFrame(results, columns=['model',\n",
    "                               'advertisement',\n",
    "                               'academic',\n",
    "                               'nonfiction',\n",
    "                               'QA',\n",
    "                               'fiction',\n",
    "                               'guide',\n",
    "                               'legal',\n",
    "                               'news',\n",
    "                               'accuracy',\n",
    "                               'macro_F1',\n",
    "                               'weighted_F1']).to_markdown())"
   ]
  },
  {
   "cell_type": "code",
   "execution_count": 33,
   "metadata": {},
   "outputs": [
    {
     "name": "stdout",
     "output_type": "stream",
     "text": [
      "|    | model   |   advertisement |   fiction |   guide |    legal |      news |   accuracy |   macro_F1 |   weighted_F1 |\n",
      "|---:|:--------|----------------:|----------:|--------:|---------:|----------:|-----------:|-----------:|--------------:|\n",
      "|  0 | XGENRE  |        0.890173 |  0.604651 |  0.8125 | 0.947368 | 0.0952381 |   0.587983 |   0.372215 |       0.52541 |\n"
     ]
    }
   ],
   "source": [
    "f_measure_per_class = {key: value['f1-score'] for key, value in report.items() if type(value) == dict}\n",
    "average_metrics = {\n",
    "'accuracy': report['accuracy'],\n",
    "'macro_F1': report['macro avg']['f1-score'],\n",
    "'weighted_F1': report['weighted avg']['f1-score']}\n",
    "f_per_class=[\n",
    "f_measure_per_class['advertisement'],\n",
    "f_measure_per_class['fiction'],\n",
    "f_measure_per_class['guide'],\n",
    "f_measure_per_class['legal'],\n",
    "f_measure_per_class['news'],\n",
    "]\n",
    "results=[(['XGENRE']+f_per_class+[average_metrics['accuracy'],average_metrics['macro_F1'],average_metrics['weighted_F1']])]\n",
    "print(pd.DataFrame(results, columns=['model',\n",
    "                               'advertisement',\n",
    "                               'fiction',\n",
    "                               'guide',\n",
    "                               'legal',\n",
    "                               'news',\n",
    "                               'accuracy',\n",
    "                               'macro_F1',\n",
    "                               'weighted_F1']).to_markdown())"
   ]
  },
  {
   "cell_type": "markdown",
   "metadata": {},
   "source": [
    "## FTD"
   ]
  },
  {
   "cell_type": "code",
   "execution_count": 145,
   "metadata": {},
   "outputs": [],
   "source": [
    "FTD_results = pd.DataFrame(results,columns=['model',\n",
    "                              'dataset',\n",
    "                              'germaniconly',\n",
    "                              'genre_map',\n",
    "                              'chunked',\n",
    "                              'withpunkt',\n",
    "                              'balanced',\n",
    "                            #   'QA',\n",
    "                              'academic',\n",
    "                              'advertisement',\n",
    "                              'fiction',\n",
    "                              'guide',\n",
    "                              'legal',\n",
    "                              'news',\n",
    "                              'nonfiction',\n",
    "                              'accuracy',\n",
    "                              'macro_F1',\n",
    "                              'weighted_F1'])"
   ]
  },
  {
   "cell_type": "code",
   "execution_count": 146,
   "metadata": {},
   "outputs": [],
   "source": [
    "FTD_results.to_csv('FTD_results.csv')"
   ]
  },
  {
   "cell_type": "code",
   "execution_count": 147,
   "metadata": {},
   "outputs": [],
   "source": [
    "cols=[\n",
    "    'academic',\n",
    "    'advertisement',\n",
    "    'fiction',\n",
    "    'guide',\n",
    "    'legal',\n",
    "    'news',\n",
    "    'nonfiction',\n",
    "    'accuracy',\n",
    "    'macro_F1',\n",
    "    'weighted_F1']"
   ]
  },
  {
   "cell_type": "code",
   "execution_count": 165,
   "metadata": {},
   "outputs": [
    {
     "name": "stdout",
     "output_type": "stream",
     "text": [
      "\\begin{tabular}{lrrr}\n",
      "\\toprule\n",
      "model & hmbert & mbert & xlmr \\\\\n",
      "\\midrule\n",
      "academic & 0.37 & 0.61 & 0.57 \\\\\n",
      "advertisement & 0.56 & 0.62 & 0.74 \\\\\n",
      "fiction & 0.43 & 0.40 & 0.49 \\\\\n",
      "guide & 0.33 & 0.47 & 0.57 \\\\\n",
      "legal & 0.90 & 0.82 & 0.89 \\\\\n",
      "news & 0.38 & 0.34 & 0.28 \\\\\n",
      "nonfiction & 0.47 & 0.54 & 0.56 \\\\\n",
      "\\bottomrule\n",
      "\\end{tabular}\n",
      "\n"
     ]
    }
   ],
   "source": [
    "print(FTD_results.groupby('model')[['academic',\n",
    "    'advertisement',\n",
    "    'fiction',\n",
    "    'guide',\n",
    "    'legal',\n",
    "    'news',\n",
    "    'nonfiction']].mean().round(2).T.to_latex(float_format=\"%.2f\"))"
   ]
  },
  {
   "cell_type": "code",
   "execution_count": 149,
   "metadata": {},
   "outputs": [
    {
     "data": {
      "text/plain": [
       "(0.5404964399683635, 0.5646076970135515)"
      ]
     },
     "execution_count": 149,
     "metadata": {},
     "output_type": "execute_result"
    }
   ],
   "source": [
    "FTD_results.macro_F1.mean(), FTD_results.weighted_F1.mean()"
   ]
  },
  {
   "cell_type": "code",
   "execution_count": 150,
   "metadata": {},
   "outputs": [
    {
     "data": {
      "text/plain": [
       "(0.6156005884692517, 0.6847880805797175)"
      ]
     },
     "execution_count": 150,
     "metadata": {},
     "output_type": "execute_result"
    }
   ],
   "source": [
    "FTD_results.macro_F1.max(), FTD_results.weighted_F1.max()"
   ]
  },
  {
   "cell_type": "code",
   "execution_count": 151,
   "metadata": {},
   "outputs": [
    {
     "name": "stdout",
     "output_type": "stream",
     "text": [
      "|    | model   | dataset   | germaniconly   |   genre_map | chunked   | withpunkt   | balanced   |   academic |   advertisement |   fiction |    guide |    legal |     news |   nonfiction |   accuracy |   macro_F1 |   weighted_F1 |\n",
      "|---:|:--------|:----------|:---------------|------------:|:----------|:------------|:-----------|-----------:|----------------:|----------:|---------:|---------:|---------:|-------------:|-----------:|-----------:|--------------:|\n",
      "|  6 | xlmr    | FTD       | False          |           4 | True      | True        | False      |   0.583333 |        0.837209 |  0.452381 | 0.712871 | 0.882353 | 0.222222 |     0.618834 |   0.676404 |   0.615601 |      0.684788 |\n",
      "|  3 | mbert   | FTD       | False          |           4 | True      | True        | False      |   0.715152 |        0.772201 |  0.430108 | 0.469136 | 0.901408 | 0.363636 |     0.582915 |   0.65618  |   0.604936 |      0.652648 |\n",
      "|  0 | mbert   | FTD       | True           |           4 | True      | True        | False      |   0.671642 |        0.684211 |  0.414634 | 0.54717  | 0.852459 | 0.388889 |     0.584362 |   0.613483 |   0.591909 |      0.624493 |\n",
      "|  7 | xlmr    | FTD       | False          |           4 | True      | True        | True       |   0.618421 |        0.621005 |  0.538462 | 0.5625   | 0.865672 | 0.342857 |     0.540284 |   0.593258 |   0.584171 |      0.598665 |\n",
      "| 11 | xlmr    | FTD       | True           |           4 | True      | True        | False      |   0.574074 |        0.778243 |  0.493827 | 0.52381  | 0.892308 | 0.25     |     0.507614 |   0.608989 |   0.574268 |      0.621862 |\n",
      "|  4 | xlmr    | FTD       | True           |           4 | True      | True        | True       |   0.5      |        0.729614 |  0.472222 | 0.47205  | 0.920635 | 0.285714 |     0.566038 |   0.593258 |   0.563753 |      0.605911 |\n",
      "|  1 | hmbert  | FTD       | False          |           4 | True      | True        | False      |   0.258065 |        0.720307 |  0.45     | 0.375    | 1        | 0.432432 |     0.538745 |   0.570787 |   0.539221 |      0.555718 |\n",
      "|  8 | hmbert  | FTD       | False          |           4 | True      | True        | True       |   0.409449 |        0.597015 |  0.45283  | 0.363636 | 0.885246 | 0.416667 |     0.475096 |   0.503371 |   0.514277 |      0.51655  |\n",
      "|  5 | mbert   | FTD       | False          |           4 | True      | True        | True       |   0.537143 |        0.571429 |  0.363636 | 0.428571 | 0.785714 | 0.352941 |     0.493724 |   0.51236  |   0.504737 |      0.523906 |\n",
      "|  9 | hmbert  | FTD       | True           |           4 | True      | True        | False      |   0.537313 |        0.552381 |  0.384615 | 0.271605 | 0.903226 | 0.315789 |     0.421456 |   0.480899 |   0.483769 |      0.492471 |\n",
      "| 10 | mbert   | FTD       | True           |           4 | True      | True        | True       |   0.528736 |        0.446809 |  0.404762 | 0.444444 | 0.75     | 0.24     |     0.493151 |   0.483146 |   0.472557 |      0.485268 |\n",
      "|  2 | hmbert  | FTD       | True           |           4 | True      | True        | True       |   0.285714 |        0.383721 |  0.446602 | 0.328571 | 0.807018 | 0.368421 |     0.437247 |   0.408989 |   0.436756 |      0.413012 |\n"
     ]
    }
   ],
   "source": [
    "print(FTD_results.sort_values(by='macro_F1', ascending=False).to_markdown())"
   ]
  },
  {
   "cell_type": "code",
   "execution_count": 89,
   "metadata": {},
   "outputs": [
    {
     "name": "stdout",
     "output_type": "stream",
     "text": [
      "|                              |   academic |   advertisement |   fiction |    guide |    legal |     news |   nonfiction |   accuracy |   macro_F1 |   weighted_F1 |\n",
      "|:-----------------------------|-----------:|----------------:|----------:|---------:|---------:|---------:|-------------:|-----------:|-----------:|--------------:|\n",
      "| ('mbert', 'False', 'False')  |   0.715152 |        0.772201 |  0.430108 | 0.469136 | 0.901408 | 0.363636 |     0.582915 |   0.65618  |   0.604936 |      0.652648 |\n",
      "| ('mbert', 'True', 'False')   |   0.671642 |        0.684211 |  0.414634 | 0.54717  | 0.852459 | 0.388889 |     0.584362 |   0.613483 |   0.591909 |      0.624493 |\n",
      "| ('xlmr', 'False', 'True')    |   0.618421 |        0.621005 |  0.538462 | 0.5625   | 0.865672 | 0.342857 |     0.540284 |   0.593258 |   0.584171 |      0.598665 |\n",
      "| ('xlmr', 'True', 'False')    |   0.574074 |        0.778243 |  0.493827 | 0.52381  | 0.892308 | 0.25     |     0.507614 |   0.608989 |   0.574268 |      0.621862 |\n",
      "| ('xlmr', 'True', 'True')     |   0.5      |        0.729614 |  0.472222 | 0.47205  | 0.920635 | 0.285714 |     0.566038 |   0.593258 |   0.563753 |      0.605911 |\n",
      "| ('hmbert', 'False', 'False') |   0.258065 |        0.720307 |  0.45     | 0.375    | 1        | 0.432432 |     0.538745 |   0.570787 |   0.539221 |      0.555718 |\n",
      "| ('hmbert', 'False', 'True')  |   0.409449 |        0.597015 |  0.45283  | 0.363636 | 0.885246 | 0.416667 |     0.475096 |   0.503371 |   0.514277 |      0.51655  |\n",
      "| ('mbert', 'False', 'True')   |   0.537143 |        0.571429 |  0.363636 | 0.428571 | 0.785714 | 0.352941 |     0.493724 |   0.51236  |   0.504737 |      0.523906 |\n",
      "| ('hmbert', 'True', 'False')  |   0.537313 |        0.552381 |  0.384615 | 0.271605 | 0.903226 | 0.315789 |     0.421456 |   0.480899 |   0.483769 |      0.492471 |\n",
      "| ('mbert', 'True', 'True')    |   0.528736 |        0.446809 |  0.404762 | 0.444444 | 0.75     | 0.24     |     0.493151 |   0.483146 |   0.472557 |      0.485268 |\n",
      "| ('hmbert', 'True', 'True')   |   0.285714 |        0.383721 |  0.446602 | 0.328571 | 0.807018 | 0.368421 |     0.437247 |   0.408989 |   0.436756 |      0.413012 |\n"
     ]
    }
   ],
   "source": [
    "print(FTD_results.groupby(['model','germaniconly','balanced'])[cols].mean().sort_values(by='macro_F1', ascending=False).to_markdown())"
   ]
  },
  {
   "cell_type": "code",
   "execution_count": 152,
   "metadata": {},
   "outputs": [
    {
     "name": "stdout",
     "output_type": "stream",
     "text": [
      "|                     |   academic |   advertisement |   fiction |    guide |    legal |     news |   nonfiction |   accuracy |   macro_F1 |   weighted_F1 |\n",
      "|:--------------------|-----------:|----------------:|----------:|---------:|---------:|---------:|-------------:|-----------:|-----------:|--------------:|\n",
      "| ('mbert', 'False')  |   0.693397 |        0.728206 |  0.422371 | 0.508153 | 0.876934 | 0.376263 |     0.583638 |   0.634831 |   0.598423 |      0.63857  |\n",
      "| ('xlmr', 'False')   |   0.578704 |        0.807726 |  0.473104 | 0.61834  | 0.88733  | 0.236111 |     0.563224 |   0.642697 |   0.594934 |      0.653325 |\n",
      "| ('xlmr', 'True')    |   0.559211 |        0.675309 |  0.505342 | 0.517275 | 0.893153 | 0.314286 |     0.553161 |   0.593258 |   0.573962 |      0.602288 |\n",
      "| ('hmbert', 'False') |   0.397689 |        0.636344 |  0.417308 | 0.323302 | 0.951613 | 0.374111 |     0.480101 |   0.525843 |   0.511495 |      0.524094 |\n",
      "| ('mbert', 'True')   |   0.532939 |        0.509119 |  0.384199 | 0.436508 | 0.767857 | 0.296471 |     0.493437 |   0.497753 |   0.488647 |      0.504587 |\n",
      "| ('hmbert', 'True')  |   0.347582 |        0.490368 |  0.449716 | 0.346104 | 0.846132 | 0.392544 |     0.456171 |   0.45618  |   0.475517 |      0.464781 |\n"
     ]
    }
   ],
   "source": [
    "print(FTD_results.groupby(['model','balanced'])[cols].mean().sort_values(by='macro_F1', ascending=False).to_markdown())"
   ]
  },
  {
   "cell_type": "code",
   "execution_count": 153,
   "metadata": {},
   "outputs": [
    {
     "name": "stdout",
     "output_type": "stream",
     "text": [
      "| balanced   |   academic |   advertisement |   fiction |    guide |    legal |     news |   nonfiction |   accuracy |   macro_F1 |   weighted_F1 |\n",
      "|:-----------|-----------:|----------------:|----------:|---------:|---------:|---------:|-------------:|-----------:|-----------:|--------------:|\n",
      "| False      |   0.556596 |        0.724092 |  0.437594 | 0.483265 | 0.905292 | 0.328828 |     0.542321 |   0.601124 |   0.568284 |      0.60533  |\n",
      "| True       |   0.47991  |        0.558265 |  0.446419 | 0.433296 | 0.835714 | 0.334433 |     0.500923 |   0.51573  |   0.512709 |      0.523886 |\n"
     ]
    }
   ],
   "source": [
    "print(FTD_results.groupby(['balanced'])[cols].mean().sort_values(by='macro_F1', ascending=False).to_markdown())"
   ]
  },
  {
   "cell_type": "code",
   "execution_count": 154,
   "metadata": {},
   "outputs": [
    {
     "name": "stdout",
     "output_type": "stream",
     "text": [
      "| germaniconly   |   academic |   advertisement |   fiction |    guide |    legal |     news |   nonfiction |   accuracy |   macro_F1 |   weighted_F1 |\n",
      "|:---------------|-----------:|----------------:|----------:|---------:|---------:|---------:|-------------:|-----------:|-----------:|--------------:|\n",
      "| False          |   0.52026  |        0.686527 |  0.447903 | 0.485286 | 0.886732 | 0.355126 |     0.5416   |   0.585393 |   0.560491 |      0.588712 |\n",
      "| True           |   0.516247 |        0.59583  |  0.43611  | 0.431275 | 0.854274 | 0.308136 |     0.501645 |   0.531461 |   0.520502 |      0.540503 |\n"
     ]
    }
   ],
   "source": [
    "print(FTD_results.groupby(['germaniconly'])[cols].mean().sort_values(by='macro_F1', ascending=False).to_markdown())"
   ]
  },
  {
   "cell_type": "code",
   "execution_count": 155,
   "metadata": {},
   "outputs": [
    {
     "name": "stdout",
     "output_type": "stream",
     "text": [
      "| model   |   academic |   advertisement |   fiction |    guide |    legal |     news |   nonfiction |   accuracy |   macro_F1 |   weighted_F1 |\n",
      "|:--------|-----------:|----------------:|----------:|---------:|---------:|---------:|-------------:|-----------:|-----------:|--------------:|\n",
      "| xlmr    |   0.568957 |        0.741518 |  0.489223 | 0.567808 | 0.890242 | 0.275198 |     0.558193 |   0.617978 |   0.584448 |      0.627807 |\n",
      "| mbert   |   0.613168 |        0.618662 |  0.403285 | 0.47233  | 0.822395 | 0.336367 |     0.538538 |   0.566292 |   0.543535 |      0.571579 |\n",
      "| hmbert  |   0.372635 |        0.563356 |  0.433512 | 0.334703 | 0.898872 | 0.383327 |     0.468136 |   0.491011 |   0.493506 |      0.494438 |\n"
     ]
    }
   ],
   "source": [
    "print(FTD_results.groupby(['model'])[cols].mean().sort_values(by='macro_F1', ascending=False).to_markdown())"
   ]
  },
  {
   "cell_type": "markdown",
   "metadata": {},
   "source": [
    "## CORE"
   ]
  },
  {
   "cell_type": "code",
   "execution_count": 99,
   "metadata": {},
   "outputs": [],
   "source": [
    "CORE_results = pd.DataFrame(results,columns=['model',\n",
    "                              'dataset',\n",
    "                              'germaniconly',\n",
    "                              'genre_map',\n",
    "                              'chunked',\n",
    "                              'withpunkt',\n",
    "                              'balanced',\n",
    "                              'QA',\n",
    "                              'academic',\n",
    "                              'advertisement',\n",
    "                              'fiction',\n",
    "                              'guide',\n",
    "                              'legal',\n",
    "                              'news',\n",
    "                              'nonfiction',\n",
    "                              'accuracy',\n",
    "                              'macro_F1',\n",
    "                              'weighted_F1'])"
   ]
  },
  {
   "cell_type": "code",
   "execution_count": 100,
   "metadata": {},
   "outputs": [],
   "source": [
    "CORE_results.to_csv('CORE_results.csv')"
   ]
  },
  {
   "cell_type": "code",
   "execution_count": 101,
   "metadata": {},
   "outputs": [],
   "source": [
    "cols=['QA',\n",
    "    'academic',\n",
    "    'advertisement',\n",
    "    'fiction',\n",
    "    'guide',\n",
    "    'legal',\n",
    "    'news',\n",
    "    'nonfiction',\n",
    "    'accuracy',\n",
    "    'macro_F1',\n",
    "    'weighted_F1']"
   ]
  },
  {
   "cell_type": "code",
   "execution_count": 164,
   "metadata": {},
   "outputs": [
    {
     "name": "stdout",
     "output_type": "stream",
     "text": [
      "\\begin{tabular}{lrrr}\n",
      "\\toprule\n",
      "model & hmbert & mbert & xlmr \\\\\n",
      "\\midrule\n",
      "QA & 0.10 & 0.18 & 0.35 \\\\\n",
      "academic & 0.45 & 0.48 & 0.50 \\\\\n",
      "advertisement & 0.07 & 0.10 & 0.11 \\\\\n",
      "fiction & 0.41 & 0.32 & 0.46 \\\\\n",
      "guide & 0.23 & 0.26 & 0.30 \\\\\n",
      "legal & 0.80 & 0.80 & 0.84 \\\\\n",
      "news & 0.00 & 0.00 & 0.07 \\\\\n",
      "nonfiction & 0.20 & 0.34 & 0.33 \\\\\n",
      "\\bottomrule\n",
      "\\end{tabular}\n",
      "\n"
     ]
    }
   ],
   "source": [
    "print(CORE_results.groupby('model')[['QA',\n",
    "    'academic',\n",
    "    'advertisement',\n",
    "    'fiction',\n",
    "    'guide',\n",
    "    'legal',\n",
    "    'news',\n",
    "    'nonfiction']].mean().round(2).T.to_latex(float_format=\"%.2f\"))"
   ]
  },
  {
   "cell_type": "code",
   "execution_count": 102,
   "metadata": {},
   "outputs": [
    {
     "data": {
      "text/plain": [
       "(0.3214394989958116, 0.2932457940404631)"
      ]
     },
     "execution_count": 102,
     "metadata": {},
     "output_type": "execute_result"
    }
   ],
   "source": [
    "CORE_results.macro_F1.mean(), CORE_results.weighted_F1.mean()"
   ]
  },
  {
   "cell_type": "code",
   "execution_count": 103,
   "metadata": {},
   "outputs": [
    {
     "data": {
      "text/plain": [
       "(0.42328019755631896, 0.4114448612857995)"
      ]
     },
     "execution_count": 103,
     "metadata": {},
     "output_type": "execute_result"
    }
   ],
   "source": [
    "CORE_results.macro_F1.max(), CORE_results.weighted_F1.max()"
   ]
  },
  {
   "cell_type": "code",
   "execution_count": 104,
   "metadata": {},
   "outputs": [
    {
     "name": "stdout",
     "output_type": "stream",
     "text": [
      "|    | model   | dataset   | germaniconly   |   genre_map | chunked   | withpunkt   | balanced   |        QA |   academic |   advertisement |   fiction |    guide |    legal |     news |   nonfiction |   accuracy |   macro_F1 |   weighted_F1 |\n",
      "|---:|:--------|:----------|:---------------|------------:|:----------|:------------|:-----------|----------:|-----------:|----------------:|----------:|---------:|---------:|---------:|-------------:|-----------:|-----------:|--------------:|\n",
      "|  9 | xlmr    | CORE      | True           |           4 | True      | True        | True       | 0.327273  |   0.609929 |       0.153846  |  0.486486 | 0.33871  | 0.833333 | 0.105263 |    0.531401  |   0.424431 |   0.42328  |      0.411445 |\n",
      "|  2 | xlmr    | CORE      | False          |           4 | True      | True        | True       | 0.514286  |   0.465116 |       0.0583942 |  0.493827 | 0.291925 | 0.806452 | 0.08     |    0.3       |   0.343685 |   0.37625  |      0.319472 |\n",
      "|  6 | xlmr    | CORE      | True           |           4 | True      | True        | False      | 0.130435  |   0.541353 |       0.180645  |  0.409091 | 0.295533 | 0.970588 | 0.08     |    0.3125    |   0.358178 |   0.365018 |      0.341707 |\n",
      "|  1 | mbert   | CORE      | True           |           4 | True      | True        | False      | 0.285714  |   0.5      |       0.120805  |  0.337349 | 0.26087  | 0.903226 | 0        |    0.36478   |   0.331263 |   0.346593 |      0.327881 |\n",
      "|  0 | mbert   | CORE      | False          |           4 | True      | True        | False      | 0.214286  |   0.5      |       0.157895  |  0.395062 | 0.264264 | 0.736842 | 0        |    0.283688  |   0.312629 |   0.319005 |      0.306941 |\n",
      "|  3 | xlmr    | CORE      | False          |           4 | True      | True        | False      | 0.434783  |   0.39604  |       0.0289855 |  0.463158 | 0.279762 | 0.758621 | 0        |    0.184615  |   0.289855 |   0.318245 |      0.259934 |\n",
      "|  8 | hmbert  | CORE      | True           |           4 | True      | True        | False      | 0.0512821 |   0.517007 |       0.0540541 |  0.346667 | 0.235669 | 0.909091 | 0        |    0.296296  |   0.304348 |   0.301258 |      0.276423 |\n",
      "|  7 | mbert   | CORE      | False          |           4 | True      | True        | True       | 0.166667  |   0.446154 |       0.1       |  0.280702 | 0.26393  | 0.766667 | 0        |    0.357616  |   0.298137 |   0.297717 |      0.289737 |\n",
      "| 11 | hmbert  | CORE      | False          |           4 | True      | True        | True       | 0.0869565 |   0.413223 |       0.121622  |  0.470588 | 0.240642 | 0.833333 | 0        |    0.173228  |   0.275362 |   0.292449 |      0.259517 |\n",
      "|  4 | hmbert  | CORE      | False          |           4 | True      | True        | False      | 0.222222  |   0.354167 |       0.0958084 |  0.417582 | 0.247978 | 0.827586 | 0        |    0.0983607 |   0.258799 |   0.282963 |      0.233647 |\n",
      "|  5 | mbert   | CORE      | True           |           4 | True      | True        | True       | 0.0392157 |   0.481481 |       0.0147059 |  0.285714 | 0.23494  | 0.811594 | 0        |    0.340136  |   0.291925 |   0.275973 |      0.257986 |\n",
      "| 10 | hmbert  | CORE      | True           |           4 | True      | True        | True       | 0.0454545 |   0.521127 |       0         |  0.411765 | 0.210526 | 0.627451 | 0        |    0.251852  |   0.258799 |   0.258522 |      0.234259 |\n"
     ]
    }
   ],
   "source": [
    "print(CORE_results.sort_values(by='macro_F1', ascending=False).to_markdown())"
   ]
  },
  {
   "cell_type": "code",
   "execution_count": 105,
   "metadata": {},
   "outputs": [
    {
     "name": "stdout",
     "output_type": "stream",
     "text": [
      "|                              |        QA |   academic |   advertisement |   fiction |    guide |    legal |     news |   nonfiction |   accuracy |   macro_F1 |   weighted_F1 |\n",
      "|:-----------------------------|----------:|-----------:|----------------:|----------:|---------:|---------:|---------:|-------------:|-----------:|-----------:|--------------:|\n",
      "| ('xlmr', 'True', 'True')     | 0.327273  |   0.609929 |       0.153846  |  0.486486 | 0.33871  | 0.833333 | 0.105263 |    0.531401  |   0.424431 |   0.42328  |      0.411445 |\n",
      "| ('xlmr', 'False', 'True')    | 0.514286  |   0.465116 |       0.0583942 |  0.493827 | 0.291925 | 0.806452 | 0.08     |    0.3       |   0.343685 |   0.37625  |      0.319472 |\n",
      "| ('xlmr', 'True', 'False')    | 0.130435  |   0.541353 |       0.180645  |  0.409091 | 0.295533 | 0.970588 | 0.08     |    0.3125    |   0.358178 |   0.365018 |      0.341707 |\n",
      "| ('mbert', 'True', 'False')   | 0.285714  |   0.5      |       0.120805  |  0.337349 | 0.26087  | 0.903226 | 0        |    0.36478   |   0.331263 |   0.346593 |      0.327881 |\n",
      "| ('mbert', 'False', 'False')  | 0.214286  |   0.5      |       0.157895  |  0.395062 | 0.264264 | 0.736842 | 0        |    0.283688  |   0.312629 |   0.319005 |      0.306941 |\n",
      "| ('xlmr', 'False', 'False')   | 0.434783  |   0.39604  |       0.0289855 |  0.463158 | 0.279762 | 0.758621 | 0        |    0.184615  |   0.289855 |   0.318245 |      0.259934 |\n",
      "| ('hmbert', 'True', 'False')  | 0.0512821 |   0.517007 |       0.0540541 |  0.346667 | 0.235669 | 0.909091 | 0        |    0.296296  |   0.304348 |   0.301258 |      0.276423 |\n",
      "| ('mbert', 'False', 'True')   | 0.166667  |   0.446154 |       0.1       |  0.280702 | 0.26393  | 0.766667 | 0        |    0.357616  |   0.298137 |   0.297717 |      0.289737 |\n",
      "| ('hmbert', 'False', 'True')  | 0.0869565 |   0.413223 |       0.121622  |  0.470588 | 0.240642 | 0.833333 | 0        |    0.173228  |   0.275362 |   0.292449 |      0.259517 |\n",
      "| ('hmbert', 'False', 'False') | 0.222222  |   0.354167 |       0.0958084 |  0.417582 | 0.247978 | 0.827586 | 0        |    0.0983607 |   0.258799 |   0.282963 |      0.233647 |\n",
      "| ('mbert', 'True', 'True')    | 0.0392157 |   0.481481 |       0.0147059 |  0.285714 | 0.23494  | 0.811594 | 0        |    0.340136  |   0.291925 |   0.275973 |      0.257986 |\n",
      "| ('hmbert', 'True', 'True')   | 0.0454545 |   0.521127 |       0         |  0.411765 | 0.210526 | 0.627451 | 0        |    0.251852  |   0.258799 |   0.258522 |      0.234259 |\n"
     ]
    }
   ],
   "source": [
    "print(CORE_results.groupby(['model','germaniconly','balanced'])[cols].mean().sort_values(by='macro_F1', ascending=False).to_markdown())"
   ]
  },
  {
   "cell_type": "code",
   "execution_count": 106,
   "metadata": {},
   "outputs": [
    {
     "name": "stdout",
     "output_type": "stream",
     "text": [
      "|                     |        QA |   academic |   advertisement |   fiction |    guide |    legal |      news |   nonfiction |   accuracy |   macro_F1 |   weighted_F1 |\n",
      "|:--------------------|----------:|-----------:|----------------:|----------:|---------:|---------:|----------:|-------------:|-----------:|-----------:|--------------:|\n",
      "| ('xlmr', 'True')    | 0.420779  |   0.537523 |       0.10612   |  0.490157 | 0.315318 | 0.819892 | 0.0926316 |     0.4157   |   0.384058 |   0.399765 |      0.365458 |\n",
      "| ('xlmr', 'False')   | 0.282609  |   0.468696 |       0.104815  |  0.436124 | 0.287647 | 0.864604 | 0.04      |     0.248558 |   0.324017 |   0.341632 |      0.300821 |\n",
      "| ('mbert', 'False')  | 0.25      |   0.5      |       0.13935   |  0.366206 | 0.262567 | 0.820034 | 0         |     0.324234 |   0.321946 |   0.332799 |      0.317411 |\n",
      "| ('hmbert', 'False') | 0.136752  |   0.435587 |       0.0749312 |  0.382125 | 0.241824 | 0.868339 | 0         |     0.197328 |   0.281573 |   0.292111 |      0.255035 |\n",
      "| ('mbert', 'True')   | 0.102941  |   0.463818 |       0.0573529 |  0.283208 | 0.249435 | 0.78913  | 0         |     0.348876 |   0.295031 |   0.286845 |      0.273861 |\n",
      "| ('hmbert', 'True')  | 0.0662055 |   0.467175 |       0.0608108 |  0.441176 | 0.225584 | 0.730392 | 0         |     0.21254  |   0.267081 |   0.275486 |      0.246888 |\n"
     ]
    }
   ],
   "source": [
    "print(CORE_results.groupby(['model','balanced'])[cols].mean().sort_values(by='macro_F1', ascending=False).to_markdown())"
   ]
  },
  {
   "cell_type": "code",
   "execution_count": 107,
   "metadata": {},
   "outputs": [
    {
     "name": "stdout",
     "output_type": "stream",
     "text": [
      "| balanced   |       QA |   academic |   advertisement |   fiction |    guide |    legal |      news |   nonfiction |   accuracy |   macro_F1 |   weighted_F1 |\n",
      "|:-----------|---------:|-----------:|----------------:|----------:|---------:|---------:|----------:|-------------:|-----------:|-----------:|--------------:|\n",
      "| False      | 0.22312  |   0.468094 |       0.106366  |  0.394818 | 0.264013 | 0.850992 | 0.0133333 |     0.256707 |   0.309179 |   0.32218  |      0.291089 |\n",
      "| True       | 0.196642 |   0.489505 |       0.0747613 |  0.404847 | 0.263445 | 0.779805 | 0.0308772 |     0.325706 |   0.31539  |   0.320699 |      0.295403 |\n"
     ]
    }
   ],
   "source": [
    "print(CORE_results.groupby(['balanced'])[cols].mean().sort_values(by='macro_F1', ascending=False).to_markdown())"
   ]
  },
  {
   "cell_type": "code",
   "execution_count": 108,
   "metadata": {},
   "outputs": [
    {
     "name": "stdout",
     "output_type": "stream",
     "text": [
      "| germaniconly   |       QA |   academic |   advertisement |   fiction |    guide |    legal |      news |   nonfiction |   accuracy |   macro_F1 |   weighted_F1 |\n",
      "|:---------------|---------:|-----------:|----------------:|----------:|---------:|---------:|----------:|-------------:|-----------:|-----------:|--------------:|\n",
      "| True           | 0.146562 |   0.528483 |       0.0873428 |  0.379512 | 0.262708 | 0.842547 | 0.0308772 |     0.349494 |   0.328157 |   0.328441 |      0.308283 |\n",
      "| False          | 0.2732   |   0.429117 |       0.0937841 |  0.420153 | 0.26475  | 0.78825  | 0.0133333 |     0.232918 |   0.296411 |   0.314438 |      0.278208 |\n"
     ]
    }
   ],
   "source": [
    "print(CORE_results.groupby(['germaniconly'])[cols].mean().sort_values(by='macro_F1', ascending=False).to_markdown())"
   ]
  },
  {
   "cell_type": "code",
   "execution_count": 109,
   "metadata": {},
   "outputs": [
    {
     "name": "stdout",
     "output_type": "stream",
     "text": [
      "| model   |       QA |   academic |   advertisement |   fiction |    guide |    legal |      news |   nonfiction |   accuracy |   macro_F1 |   weighted_F1 |\n",
      "|:--------|---------:|-----------:|----------------:|----------:|---------:|---------:|----------:|-------------:|-----------:|-----------:|--------------:|\n",
      "| xlmr    | 0.351694 |   0.50311  |       0.105468  |  0.463141 | 0.301482 | 0.842248 | 0.0663158 |     0.332129 |   0.354037 |   0.370698 |      0.33314  |\n",
      "| mbert   | 0.176471 |   0.481909 |       0.0983515 |  0.324707 | 0.256001 | 0.804582 | 0         |     0.336555 |   0.308489 |   0.309822 |      0.295636 |\n",
      "| hmbert  | 0.101479 |   0.451381 |       0.067871  |  0.411651 | 0.233704 | 0.799365 | 0         |     0.204934 |   0.274327 |   0.283798 |      0.250962 |\n"
     ]
    }
   ],
   "source": [
    "print(CORE_results.groupby(['model'])[cols].mean().sort_values(by='macro_F1', ascending=False).to_markdown())"
   ]
  },
  {
   "cell_type": "markdown",
   "metadata": {},
   "source": [
    "## UDM"
   ]
  },
  {
   "cell_type": "code",
   "execution_count": 111,
   "metadata": {},
   "outputs": [],
   "source": [
    "UDM_results = pd.DataFrame(results,columns=['model',\n",
    "                              'dataset',\n",
    "                              'germaniconly',\n",
    "                              'genre_map',\n",
    "                              'chunked',\n",
    "                              'withpunkt',\n",
    "                              'balanced',\n",
    "                              'QA',\n",
    "                              'academic',\n",
    "                              'administrative',\n",
    "                              'fiction',\n",
    "                              'guide',\n",
    "                              'legal',\n",
    "                              'news',\n",
    "                              'nonfiction',\n",
    "                              'accuracy',\n",
    "                              'macro_F1',\n",
    "                              'weighted_F1'])"
   ]
  },
  {
   "cell_type": "code",
   "execution_count": 112,
   "metadata": {},
   "outputs": [],
   "source": [
    "UDM_results.to_csv('UDM_results.csv')"
   ]
  },
  {
   "cell_type": "code",
   "execution_count": 113,
   "metadata": {},
   "outputs": [],
   "source": [
    "cols=['QA',\n",
    "    'academic',\n",
    "    'administrative',\n",
    "    'fiction',\n",
    "    'guide',\n",
    "    'legal',\n",
    "    'news',\n",
    "    'nonfiction',\n",
    "    'accuracy',\n",
    "    'macro_F1',\n",
    "    'weighted_F1']"
   ]
  },
  {
   "cell_type": "code",
   "execution_count": 163,
   "metadata": {},
   "outputs": [
    {
     "name": "stdout",
     "output_type": "stream",
     "text": [
      "\\begin{tabular}{lrrr}\n",
      "\\toprule\n",
      "model & hmbert & mbert & xlmr \\\\\n",
      "\\midrule\n",
      "QA & 0.10 & 0.16 & 0.53 \\\\\n",
      "academic & 0.04 & 0.25 & 0.21 \\\\\n",
      "administrative & 0.43 & 0.25 & 0.30 \\\\\n",
      "fiction & 0.27 & 0.17 & 0.30 \\\\\n",
      "guide & 0.26 & 0.29 & 0.31 \\\\\n",
      "legal & 0.08 & 0.16 & 0.14 \\\\\n",
      "news & 0.01 & 0.04 & 0.05 \\\\\n",
      "nonfiction & 0.03 & 0.01 & 0.08 \\\\\n",
      "\\bottomrule\n",
      "\\end{tabular}\n",
      "\n"
     ]
    }
   ],
   "source": [
    "print(UDM_results.groupby('model')[['QA',\n",
    "    'academic',\n",
    "    'administrative',\n",
    "    'fiction',\n",
    "    'guide',\n",
    "    'legal',\n",
    "    'news',\n",
    "    'nonfiction']].mean().T.round(2).to_latex(float_format=\"%.2f\"))"
   ]
  },
  {
   "cell_type": "code",
   "execution_count": 114,
   "metadata": {},
   "outputs": [
    {
     "data": {
      "text/plain": [
       "(0.18702316464680668, 0.18376101933590402)"
      ]
     },
     "execution_count": 114,
     "metadata": {},
     "output_type": "execute_result"
    }
   ],
   "source": [
    "UDM_results.macro_F1.mean(), UDM_results.weighted_F1.mean()"
   ]
  },
  {
   "cell_type": "code",
   "execution_count": 115,
   "metadata": {},
   "outputs": [
    {
     "data": {
      "text/plain": [
       "(0.28077665579236866, 0.26283577831612853)"
      ]
     },
     "execution_count": 115,
     "metadata": {},
     "output_type": "execute_result"
    }
   ],
   "source": [
    "UDM_results.macro_F1.max(), UDM_results.weighted_F1.max()"
   ]
  },
  {
   "cell_type": "code",
   "execution_count": 116,
   "metadata": {},
   "outputs": [
    {
     "name": "stdout",
     "output_type": "stream",
     "text": [
      "|    | model   | dataset   | germaniconly   |   genre_map | chunked   | withpunkt   | balanced   |        QA |   academic |   administrative |   fiction |    guide |     legal |       news |   nonfiction |   accuracy |   macro_F1 |   weighted_F1 |\n",
      "|---:|:--------|:----------|:---------------|------------:|:----------|:------------|:-----------|----------:|-----------:|-----------------:|----------:|---------:|----------:|-----------:|-------------:|-----------:|-----------:|--------------:|\n",
      "|  5 | xlmr    | UDM       | False          |           4 | True      | True        | True       | 0.548387  |  0.378378  |         0.232558 | 0.453333  | 0.305085 | 0.262295  | 0.0661765  |    0         |  0.216667  |   0.280777 |      0.250286 |\n",
      "|  6 | xlmr    | UDM       | False          |           4 | True      | True        | False      | 0.666667  |  0.27907   |         0.131579 | 0.384     | 0.178571 | 0.253968  | 0.071066   |    0.214286  |  0.242857  |   0.272401 |      0.262836 |\n",
      "|  2 | mbert   | UDM       | False          |           4 | True      | True        | True       | 0.235294  |  0.567164  |         0.272727 | 0.305556  | 0.225806 | 0.339623  | 0.0414508  |    0         |  0.233333  |   0.248453 |      0.242377 |\n",
      "|  1 | mbert   | UDM       | False          |           4 | True      | True        | False      | 0.0930233 |  0.393162  |         0.148148 | 0.392157  | 0.326087 | 0.246154  | 0.00884956 |    0.0350877 |  0.183333  |   0.205334 |      0.201078 |\n",
      "|  9 | xlmr    | UDM       | True           |           4 | True      | True        | True       | 0.474576  |  0.0833333 |         0.272727 | 0.289855  | 0.369231 | 0.0512821 | 0.06       |    0.0405405 |  0.152381  |   0.205193 |      0.188052 |\n",
      "|  3 | xlmr    | UDM       | True           |           4 | True      | True        | False      | 0.44      |  0.0810811 |         0.571429 | 0.0597015 | 0.372093 | 0         | 0.02       |    0.0683761 |  0.169048  |   0.201585 |      0.215301 |\n",
      "|  0 | hmbert  | UDM       | False          |           4 | True      | True        | False      | 0.0465116 |  0.0285714 |         0.446281 | 0.324324  | 0.25     | 0.254545  | 0.016      |    0.0719424 |  0.157143  |   0.179772 |      0.181364 |\n",
      "|  8 | hmbert  | UDM       | False          |           4 | True      | True        | True       | 0.296296  |  0         |         0.346154 | 0.361446  | 0.235294 | 0.0714286 | 0.0230769  |    0.0178571 |  0.140476  |   0.168944 |      0.155495 |\n",
      "| 11 | hmbert  | UDM       | True           |           4 | True      | True        | False      | 0.05      |  0.109589  |         0.434109 | 0.231579  | 0.23301  | 0         | 0          |    0         |  0.133333  |   0.132286 |      0.142537 |\n",
      "|  7 | hmbert  | UDM       | True           |           4 | True      | True        | True       | 0         |  0.0285714 |         0.5      | 0.152174  | 0.330275 | 0         | 0.00775194 |    0.0336134 |  0.140476  |   0.131548 |      0.14901  |\n",
      "| 10 | mbert   | UDM       | True           |           4 | True      | True        | True       | 0.163265  |  0.056338  |         0.268293 | 0         | 0.338028 | 0         | 0.0495356  |    0         |  0.0880952 |   0.109432 |      0.109643 |\n",
      "|  4 | mbert   | UDM       | True           |           4 | True      | True        | False      | 0.163265  |  0         |         0.32     | 0         | 0.289855 | 0.0512821 | 0.0440252  |    0         |  0.0904762 |   0.108553 |      0.107154 |\n"
     ]
    }
   ],
   "source": [
    "print(UDM_results.sort_values(by='macro_F1', ascending=False).to_markdown())"
   ]
  },
  {
   "cell_type": "code",
   "execution_count": 128,
   "metadata": {},
   "outputs": [
    {
     "name": "stdout",
     "output_type": "stream",
     "text": [
      "| model   |       QA |   academic |   administrative |   fiction |    guide |     legal |      news |   nonfiction |\n",
      "|:--------|---------:|-----------:|-----------------:|----------:|---------:|----------:|----------:|-------------:|\n",
      "| hmbert  | 0.098202 |   0.041683 |         0.431636 |  0.267381 | 0.262145 | 0.0814935 | 0.0117072 |   0.0308533  |\n",
      "| mbert   | 0.163712 |   0.254166 |         0.252292 |  0.174428 | 0.294944 | 0.159265  | 0.0359653 |   0.00877193 |\n",
      "| xlmr    | 0.532408 |   0.205466 |         0.302073 |  0.296722 | 0.306245 | 0.141886  | 0.0543106 |   0.0808006  |\n"
     ]
    }
   ],
   "source": [
    "print(UDM_results.groupby('model')[['QA',\n",
    "    'academic',\n",
    "    'administrative',\n",
    "    'fiction',\n",
    "    'guide',\n",
    "    'legal',\n",
    "    'news',\n",
    "    'nonfiction',]].mean().to_markdown())"
   ]
  },
  {
   "cell_type": "code",
   "execution_count": 117,
   "metadata": {},
   "outputs": [
    {
     "name": "stdout",
     "output_type": "stream",
     "text": [
      "|                              |        QA |   academic |   administrative |   fiction |    guide |     legal |       news |   nonfiction |   accuracy |   macro_F1 |   weighted_F1 |\n",
      "|:-----------------------------|----------:|-----------:|-----------------:|----------:|---------:|----------:|-----------:|-------------:|-----------:|-----------:|--------------:|\n",
      "| ('xlmr', 'False', 'True')    | 0.548387  |  0.378378  |         0.232558 | 0.453333  | 0.305085 | 0.262295  | 0.0661765  |    0         |  0.216667  |   0.280777 |      0.250286 |\n",
      "| ('xlmr', 'False', 'False')   | 0.666667  |  0.27907   |         0.131579 | 0.384     | 0.178571 | 0.253968  | 0.071066   |    0.214286  |  0.242857  |   0.272401 |      0.262836 |\n",
      "| ('mbert', 'False', 'True')   | 0.235294  |  0.567164  |         0.272727 | 0.305556  | 0.225806 | 0.339623  | 0.0414508  |    0         |  0.233333  |   0.248453 |      0.242377 |\n",
      "| ('mbert', 'False', 'False')  | 0.0930233 |  0.393162  |         0.148148 | 0.392157  | 0.326087 | 0.246154  | 0.00884956 |    0.0350877 |  0.183333  |   0.205334 |      0.201078 |\n",
      "| ('xlmr', 'True', 'True')     | 0.474576  |  0.0833333 |         0.272727 | 0.289855  | 0.369231 | 0.0512821 | 0.06       |    0.0405405 |  0.152381  |   0.205193 |      0.188052 |\n",
      "| ('xlmr', 'True', 'False')    | 0.44      |  0.0810811 |         0.571429 | 0.0597015 | 0.372093 | 0         | 0.02       |    0.0683761 |  0.169048  |   0.201585 |      0.215301 |\n",
      "| ('hmbert', 'False', 'False') | 0.0465116 |  0.0285714 |         0.446281 | 0.324324  | 0.25     | 0.254545  | 0.016      |    0.0719424 |  0.157143  |   0.179772 |      0.181364 |\n",
      "| ('hmbert', 'False', 'True')  | 0.296296  |  0         |         0.346154 | 0.361446  | 0.235294 | 0.0714286 | 0.0230769  |    0.0178571 |  0.140476  |   0.168944 |      0.155495 |\n",
      "| ('hmbert', 'True', 'False')  | 0.05      |  0.109589  |         0.434109 | 0.231579  | 0.23301  | 0         | 0          |    0         |  0.133333  |   0.132286 |      0.142537 |\n",
      "| ('hmbert', 'True', 'True')   | 0         |  0.0285714 |         0.5      | 0.152174  | 0.330275 | 0         | 0.00775194 |    0.0336134 |  0.140476  |   0.131548 |      0.14901  |\n",
      "| ('mbert', 'True', 'True')    | 0.163265  |  0.056338  |         0.268293 | 0         | 0.338028 | 0         | 0.0495356  |    0         |  0.0880952 |   0.109432 |      0.109643 |\n",
      "| ('mbert', 'True', 'False')   | 0.163265  |  0         |         0.32     | 0         | 0.289855 | 0.0512821 | 0.0440252  |    0         |  0.0904762 |   0.108553 |      0.107154 |\n"
     ]
    }
   ],
   "source": [
    "print(UDM_results.groupby(['model','germaniconly','balanced'])[cols].mean().sort_values(by='macro_F1', ascending=False).to_markdown())"
   ]
  },
  {
   "cell_type": "code",
   "execution_count": 61,
   "metadata": {},
   "outputs": [
    {
     "name": "stdout",
     "output_type": "stream",
     "text": [
      "|                     |        QA |   academic |   administrative |   fiction |    guide |     legal |      news |   nonfiction |   accuracy |   macro_F1 |   weighted_F1 |\n",
      "|:--------------------|----------:|-----------:|-----------------:|----------:|---------:|----------:|----------:|-------------:|-----------:|-----------:|--------------:|\n",
      "| ('xlmr', 'True')    | 0.511482  |  0.230856  |         0.252643 |  0.371594 | 0.337158 | 0.156789  | 0.0630882 |    0.0202703 |   0.184524 |   0.242985 |      0.219169 |\n",
      "| ('xlmr', 'False')   | 0.553333  |  0.180075  |         0.351504 |  0.221851 | 0.275332 | 0.126984  | 0.045533  |    0.141331  |   0.205952 |   0.236993 |      0.239068 |\n",
      "| ('mbert', 'True')   | 0.19928   |  0.311751  |         0.27051  |  0.152778 | 0.281917 | 0.169811  | 0.0454932 |    0         |   0.160714 |   0.178943 |      0.17601  |\n",
      "| ('mbert', 'False')  | 0.128144  |  0.196581  |         0.234074 |  0.196078 | 0.307971 | 0.148718  | 0.0264374 |    0.0175439 |   0.136905 |   0.156944 |      0.154116 |\n",
      "| ('hmbert', 'False') | 0.0482558 |  0.0690802 |         0.440195 |  0.277952 | 0.241505 | 0.127273  | 0.008     |    0.0359712 |   0.145238 |   0.156029 |      0.16195  |\n",
      "| ('hmbert', 'True')  | 0.148148  |  0.0142857 |         0.423077 |  0.25681  | 0.282785 | 0.0357143 | 0.0154144 |    0.0257353 |   0.140476 |   0.150246 |      0.152253 |\n"
     ]
    }
   ],
   "source": [
    "print(UDM_results.groupby(['model','balanced'])[cols].mean().sort_values(by='macro_F1', ascending=False).to_markdown())"
   ]
  },
  {
   "cell_type": "code",
   "execution_count": 118,
   "metadata": {},
   "outputs": [
    {
     "name": "stdout",
     "output_type": "stream",
     "text": [
      "| balanced   |       QA |   academic |   administrative |   fiction |    guide |    legal |      news |   nonfiction |   accuracy |   macro_F1 |   weighted_F1 |\n",
      "|:-----------|---------:|-----------:|-----------------:|----------:|---------:|---------:|----------:|-------------:|-----------:|-----------:|--------------:|\n",
      "| True       | 0.286303 |   0.185631 |         0.31541  |  0.260394 | 0.30062  | 0.120771 | 0.041332  |    0.0153352 |   0.161905 |   0.190725 |      0.182477 |\n",
      "| False      | 0.243244 |   0.148579 |         0.341924 |  0.23196  | 0.274936 | 0.134325 | 0.0266568 |    0.0649487 |   0.162698 |   0.183322 |      0.185045 |\n"
     ]
    }
   ],
   "source": [
    "print(UDM_results.groupby(['balanced'])[cols].mean().sort_values(by='macro_F1', ascending=False).to_markdown())"
   ]
  },
  {
   "cell_type": "code",
   "execution_count": 119,
   "metadata": {},
   "outputs": [
    {
     "name": "stdout",
     "output_type": "stream",
     "text": [
      "|                    |       QA |   academic |   administrative |   fiction |    guide |    legal |      news |   nonfiction |   accuracy |   macro_F1 |   weighted_F1 |\n",
      "|:-------------------|---------:|-----------:|-----------------:|----------:|---------:|---------:|----------:|-------------:|-----------:|-----------:|--------------:|\n",
      "| ('False', 'True')  | 0.359993 |  0.315181  |         0.283813 | 0.373445  | 0.255395 | 0.224449 | 0.0435681 |   0.00595238 |   0.196825 |   0.232724 |      0.216053 |\n",
      "| ('False', 'False') | 0.268734 |  0.233601  |         0.242003 | 0.366827  | 0.251553 | 0.251556 | 0.0319718 |   0.107105   |   0.194444 |   0.219169 |      0.215093 |\n",
      "| ('True', 'True')   | 0.212614 |  0.0560809 |         0.347007 | 0.147343  | 0.345845 | 0.017094 | 0.0390958 |   0.024718   |   0.126984 |   0.148725 |      0.148901 |\n",
      "| ('True', 'False')  | 0.217755 |  0.0635567 |         0.441846 | 0.0970935 | 0.298319 | 0.017094 | 0.0213417 |   0.022792   |   0.130952 |   0.147475 |      0.154997 |\n"
     ]
    }
   ],
   "source": [
    "print(UDM_results.groupby(['germaniconly','balanced'])[cols].mean().sort_values(by='macro_F1', ascending=False).to_markdown())"
   ]
  },
  {
   "cell_type": "code",
   "execution_count": 120,
   "metadata": {},
   "outputs": [
    {
     "name": "stdout",
     "output_type": "stream",
     "text": [
      "| germaniconly   |       QA |   academic |   administrative |   fiction |    guide |    legal |      news |   nonfiction |   accuracy |   macro_F1 |   weighted_F1 |\n",
      "|:---------------|---------:|-----------:|-----------------:|----------:|---------:|---------:|----------:|-------------:|-----------:|-----------:|--------------:|\n",
      "| False          | 0.314363 |  0.274391  |         0.262908 |  0.370136 | 0.253474 | 0.238002 | 0.03777   |    0.0565288 |   0.195635 |   0.225947 |      0.215573 |\n",
      "| True           | 0.215184 |  0.0598188 |         0.394426 |  0.122218 | 0.322082 | 0.017094 | 0.0302188 |    0.023755  |   0.128968 |   0.1481   |      0.151949 |\n"
     ]
    }
   ],
   "source": [
    "print(UDM_results.groupby(['germaniconly'])[cols].mean().sort_values(by='macro_F1', ascending=False).to_markdown())"
   ]
  },
  {
   "cell_type": "code",
   "execution_count": 121,
   "metadata": {},
   "outputs": [
    {
     "name": "stdout",
     "output_type": "stream",
     "text": [
      "| model   |       QA |   academic |   administrative |   fiction |    guide |     legal |      news |   nonfiction |   accuracy |   macro_F1 |   weighted_F1 |\n",
      "|:--------|---------:|-----------:|-----------------:|----------:|---------:|----------:|----------:|-------------:|-----------:|-----------:|--------------:|\n",
      "| xlmr    | 0.532408 |   0.205466 |         0.302073 |  0.296722 | 0.306245 | 0.141886  | 0.0543106 |   0.0808006  |   0.195238 |   0.239989 |      0.229119 |\n",
      "| mbert   | 0.163712 |   0.254166 |         0.252292 |  0.174428 | 0.294944 | 0.159265  | 0.0359653 |   0.00877193 |   0.14881  |   0.167943 |      0.165063 |\n",
      "| hmbert  | 0.098202 |   0.041683 |         0.431636 |  0.267381 | 0.262145 | 0.0814935 | 0.0117072 |   0.0308533  |   0.142857 |   0.153138 |      0.157102 |\n"
     ]
    }
   ],
   "source": [
    "print(UDM_results.groupby(['model'])[cols].mean().sort_values(by='macro_F1', ascending=False).to_markdown())"
   ]
  },
  {
   "cell_type": "code",
   "execution_count": null,
   "metadata": {},
   "outputs": [],
   "source": [
    "# def test_zero_shot(test_df):\n",
    "    \n",
    "    \n",
    "#     test_df[\"y_pred_GINCO_full_set\"] = y_pred\n",
    "\n",
    "#     # Calculate the scores\n",
    "#     macro = f1_score(y_true, y_pred, labels=LABELS, average=\"macro\")\n",
    "#     micro = f1_score(y_true, y_pred, labels=LABELS,  average=\"micro\")\n",
    "#     print(f\"Macro f1: {macro:0.3}, Micro f1: {micro:0.3}\")\n",
    "    \n",
    "#     # Plot the confusion matrix:\n",
    "#     cm = confusion_matrix(y_true, y_pred, labels=LABELS)\n",
    "#     plt.figure(figsize=(9, 9))\n",
    "#     plt.imshow(cm, cmap=\"Oranges\")\n",
    "#     for (i, j), z in np.ndenumerate(cm):\n",
    "#         plt.text(j, i, '{:d}'.format(z), ha='center', va='center')\n",
    "#     classNames = LABELS\n",
    "#     plt.ylabel('True label')\n",
    "#     plt.xlabel('Predicted label')\n",
    "#     tick_marks = np.arange(len(classNames))\n",
    "#     plt.xticks(tick_marks, classNames, rotation=90)\n",
    "#     plt.yticks(tick_marks, classNames)\n",
    "#     plt.title(f\"{test_name}\")\n",
    "\n",
    "#     plt.tight_layout()\n",
    "#     fig1 = plt.gcf()\n",
    "#     plt.show()\n",
    "#     plt.draw()\n",
    "#     fig1.savefig(f\"figures/Confusion-matrix-{test_name}.png\",dpi=100)\n",
    "\n",
    "    \n",
    "\n",
    "#     # Save the new dataframe which contains the y_pred values as well\n",
    "#     test_df.to_csv(f\"results/{test_name}-sheet-with-predictions.csv\", sep=\"\\t\")"
   ]
  },
  {
   "cell_type": "markdown",
   "metadata": {},
   "source": []
  }
 ],
 "metadata": {
  "kernelspec": {
   "display_name": ".venv",
   "language": "python",
   "name": "python3"
  },
  "language_info": {
   "codemirror_mode": {
    "name": "ipython",
    "version": 3
   },
   "file_extension": ".py",
   "mimetype": "text/x-python",
   "name": "python",
   "nbconvert_exporter": "python",
   "pygments_lexer": "ipython3",
   "version": "3.12.3"
  }
 },
 "nbformat": 4,
 "nbformat_minor": 2
}
